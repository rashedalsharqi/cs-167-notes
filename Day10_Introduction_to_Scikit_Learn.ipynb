{
  "cells": [
    {
      "cell_type": "markdown",
      "metadata": {
        "id": "view-in-github",
        "colab_type": "text"
      },
      "source": [
        "<a href=\"https://colab.research.google.com/github/rashedalsharqi/cs-167-notes/blob/main/Day10_Introduction_to_Scikit_Learn.ipynb\" target=\"_parent\"><img src=\"https://colab.research.google.com/assets/colab-badge.svg\" alt=\"Open In Colab\"/></a>"
      ]
    },
    {
      "cell_type": "markdown",
      "metadata": {
        "id": "8xXeNpa4rP4j"
      },
      "source": [
        "# CS167: Day10\n",
        "## Introduction to Scikit Learn\n",
        "\n",
        "#### CS167: Machine Learning, Spring 2023\n",
        "\n",
        "Tuessday, February 28th, 2023\n",
        "\n",
        "📆 [Course Schedule](https://docs.google.com/spreadsheets/d/e/2PACX-1vSvFV5Mz0_YZE1d5r3gQ8IMktE4cBAsJIlP30cl2GhEpSO0J-YWV62QokSDz-OcOCsEmxMuKpY0kVlR/pubhtml?gid=0&single=true) | 🙋[PollEverywhere](https://pollev.com/meredithmoore011) | 📜 [Syllabus](https://analytics.drake.edu/~moore/cs167_s23_syllabus.html) | 📬 [CodePost Login](https://codepost.io/login)"
      ]
    },
    {
      "cell_type": "markdown",
      "metadata": {
        "id": "yM__di-irP4m"
      },
      "source": [
        "# Admin Stuff\n",
        "\n",
        "You should be working on:\n",
        "- [Notebook #3:](https://classroom.github.com/a/2Jc4k7Pe) knn and Normalization\n",
        "    - **Extension**: now due Tuesday 2/28 by 11:59pm.\n",
        "- [Notebook #4:](https://classroom.github.com/a/nOppDGyi) Intro to Scikit Learn\n",
        "    - **Due**: Tuesday, 3/7 by 11:59pm"
      ]
    },
    {
      "cell_type": "markdown",
      "metadata": {
        "id": "0HYWWPUvrP4n"
      },
      "source": [
        "# Quick Review:\n",
        "\n",
        "Decision Trees:\n"
      ]
    },
    {
      "cell_type": "markdown",
      "metadata": {
        "id": "vAVTFOqqrP4n"
      },
      "source": [
        "## What is a decision tree?\n",
        "<div>\n",
        "<img src=\"https://github.com/merriekay/S23-CS167-Notes/blob/main/images/day05_dt_ex1.png?raw=1\" width=800/>\n",
        "</div>"
      ]
    },
    {
      "cell_type": "markdown",
      "metadata": {
        "id": "HHS71ZvarP4n"
      },
      "source": [
        "## Great, now how do I build (grow) a tree?\n",
        "\n",
        "One algorithm that builds a decision tree is called the __ID3 Decision Tree Learning Algorithm__."
      ]
    },
    {
      "cell_type": "markdown",
      "metadata": {
        "id": "rMC3t_m9rP4o"
      },
      "source": [
        "It goes like this: \n",
        "    \n",
        "__Main ID3 Loop__:\n",
        "1. Assign A to be the _best_ decision feature for the next node.\n",
        "2. Assign A as decision feature for the node\n",
        "3. For each possible attribute of A, create a new descendant of node\n",
        "4. Sort training examples to leaf nodes\n",
        "5. If Training examples are perfectly classified, the STOP, Else, iterate over new leaf nodes."
      ]
    },
    {
      "cell_type": "markdown",
      "metadata": {
        "id": "yNjCHcG1rP4o"
      },
      "source": [
        "### What does 'best' mean? How can we tell which node is *best*?"
      ]
    },
    {
      "cell_type": "markdown",
      "metadata": {
        "id": "ZyvPVNAArP4o"
      },
      "source": [
        "## Calculating Information Gain\n",
        "__Information Gain__ is the quantity that tells us how much information splitting our data using a given column gives us.\n",
        "\n",
        "$Information Gain = Entropy_{before} - Expected Entropy_{after}$"
      ]
    },
    {
      "cell_type": "markdown",
      "metadata": {
        "id": "k5vbBBoHrP4p"
      },
      "source": [
        "**Process**:\n",
        "1. Calculate the entropy of the data before you split it up by the values of the chosen node. \n",
        "2. Calculate the expected entropy after you split the data up at the chosen node\n",
        "3. Subtract the result of step 1 from the result of step 2. "
      ]
    },
    {
      "cell_type": "markdown",
      "metadata": {
        "id": "QiaGAodbrP4p"
      },
      "source": [
        "# A Walkthrough:\n",
        "\n",
        "Let's calculate the Information Gain for this example:\n",
        "\n",
        "<div>\n",
        "<img src=\"https://github.com/merriekay/S23-CS167-Notes/blob/main/images/entropy_calc.png?raw=1\" width=700/>\n",
        "</div>\n",
        "\n",
        "## [Walkthrough Slides](https://docs.google.com/presentation/d/1VpIKV7if347vO1NnwRLnogCs7LfbwY5SM_StrXTup3c/edit?usp=sharing)"
      ]
    },
    {
      "cell_type": "markdown",
      "metadata": {
        "id": "H9sTbUL7rP4p"
      },
      "source": [
        "## 💬 Review Question:\n",
        "\n",
        "You are given the following dataset where: \n",
        "- Day is the day of the week\n",
        "- Chicken Wrap is whether or not a chicken wrap was available\n",
        "- Hungry is whether you were hungry or not\n",
        "- Choice is the choice you made as to where to eat\n",
        "\n",
        "### What is the information gain of the `Hungry` column?\n",
        "\n",
        "| **Day**   | **Chicken Wrap** | **Hungry** | **Choice** |\n",
        "|-----------|------------------|------------|------------|\n",
        "| Monday    | yes              | no         | Hubbell    |\n",
        "| Wednesday | no               | yes        | Starbucks  |\n",
        "| Monday    | yes              | yes        | Hubbell    |\n",
        "| Wednesday | no               | no         | Hubbell    |\n",
        "| Monday    | no               | yes        | Starbucks  |"
      ]
    },
    {
      "cell_type": "markdown",
      "metadata": {
        "id": "7zAOzLb_rP4q"
      },
      "source": [
        "### Step #1: Draw a pretty picture\n",
        "- include the entropy of the **target class** before we split based on `'Hungry'`, and then the entropy of each partition after: \n",
        "\n",
        "<div>\n",
        "<img src=\"https://github.com/merriekay/S23-CS167-Notes/blob/main/images/day10_info_gain_data.png?raw=1\" width=800/>\n",
        "</div>"
      ]
    },
    {
      "cell_type": "markdown",
      "metadata": {
        "id": "6HTxB5rhrP4q"
      },
      "source": [
        "<div>\n",
        "<img src=\"https://github.com/merriekay/S23-CS167-Notes/blob/main/images/day10_info_gain_ex2_data.png?raw=1\" width=800/>\n",
        "</div>"
      ]
    },
    {
      "cell_type": "code",
      "execution_count": 5,
      "metadata": {
        "id": "YCo9NhU1rP4q"
      },
      "outputs": [],
      "source": [
        "import math\n",
        "def entropy(percentage_list):\n",
        "    #input: percentage_list consists of float values that sum to 1.0 \n",
        "    #return: calculation of entropy for input percentages\n",
        "    result = 0\n",
        "    for percentage in percentage_list:\n",
        "        if percentage != 0:\n",
        "            result += -percentage*math.log2(percentage)\n",
        "    return result"
      ]
    },
    {
      "cell_type": "code",
      "execution_count": 6,
      "metadata": {
        "id": "ejsZqxWcrP4r",
        "colab": {
          "base_uri": "https://localhost:8080/"
        },
        "outputId": "512de4f6-118f-4499-ad7f-4027658a95d5"
      },
      "outputs": [
        {
          "output_type": "execute_result",
          "data": {
            "text/plain": [
              "0.9709505944546686"
            ]
          },
          "metadata": {},
          "execution_count": 6
        }
      ],
      "source": [
        "#do calculations here using entropy()\n",
        "entropy([3/5,2/5])"
      ]
    },
    {
      "cell_type": "code",
      "source": [
        "#left\n",
        "entropy([1/3,2/3])"
      ],
      "metadata": {
        "colab": {
          "base_uri": "https://localhost:8080/"
        },
        "id": "dW8cfsmZD0HU",
        "outputId": "a9586359-7f3a-4c93-c6d1-8264d4763895"
      },
      "execution_count": 7,
      "outputs": [
        {
          "output_type": "execute_result",
          "data": {
            "text/plain": [
              "0.9182958340544896"
            ]
          },
          "metadata": {},
          "execution_count": 7
        }
      ]
    },
    {
      "cell_type": "code",
      "source": [
        "#right\n",
        "entropy([2/2,0/2])"
      ],
      "metadata": {
        "colab": {
          "base_uri": "https://localhost:8080/"
        },
        "id": "C6IY-KBID8Jf",
        "outputId": "d5be479a-dda8-4e0b-a107-f105fd084da8"
      },
      "execution_count": 8,
      "outputs": [
        {
          "output_type": "execute_result",
          "data": {
            "text/plain": [
              "0.0"
            ]
          },
          "metadata": {},
          "execution_count": 8
        }
      ]
    },
    {
      "cell_type": "code",
      "source": [
        "#"
      ],
      "metadata": {
        "id": "v7zbMY3cEApy"
      },
      "execution_count": null,
      "outputs": []
    },
    {
      "cell_type": "markdown",
      "metadata": {
        "id": "-2xhJ6gurP4r"
      },
      "source": [
        "# ✨ New Material"
      ]
    },
    {
      "cell_type": "markdown",
      "metadata": {
        "id": "stHyqEWjrP4s"
      },
      "source": [
        "# Introduction to Scikit Learn:\n",
        "\n",
        "`scikit-learn` is one of Python's main Machine Learning Libraries.\n",
        "- built on `NumPy`, `SciPy`, and `matplotlib`\n",
        "- plays nicely with `pandas`\n",
        "- https://scikit-learn.org/stable/ "
      ]
    },
    {
      "cell_type": "markdown",
      "metadata": {
        "id": "R-f-6WiorP4s"
      },
      "source": [
        "# Overview of the Scikit Learn 'Algorithm': \n",
        "\n",
        "When working in Scikit Learn (`sklearn`), there is a general pattern that we can follow to implement any supported machine learning algorithm.\n",
        "\n",
        "It goes like this: \n",
        "1. Load your data using `pd.read_csv()`\n",
        "2. Split your data `train_test_split()`\n",
        "3. Create your classifier/regressor object\n",
        "4. Call `fit()` to train your model\n",
        "5. Call `predict()` to get predictions\n",
        "6. Call a metric function to measure the performance of your model."
      ]
    },
    {
      "cell_type": "markdown",
      "metadata": {
        "id": "FZZL4fyUrP4s"
      },
      "source": [
        "## All together, it looks something like this:"
      ]
    },
    {
      "cell_type": "code",
      "execution_count": 9,
      "metadata": {
        "id": "yqoZXYrLrP4s",
        "colab": {
          "base_uri": "https://localhost:8080/"
        },
        "outputId": "d9bddb52-61a8-45a6-c10c-b0f9fd439529"
      },
      "outputs": [
        {
          "output_type": "stream",
          "name": "stdout",
          "text": [
            "Mounted at /content/drive\n"
          ]
        }
      ],
      "source": [
        "# Mount your drive\n",
        "from google.colab import drive\n",
        "drive.mount('/content/drive')"
      ]
    },
    {
      "cell_type": "code",
      "execution_count": 10,
      "metadata": {
        "id": "qRagFfbVrP4s",
        "outputId": "7aca9d68-62d5-4ee1-f664-c3649a7758f4",
        "colab": {
          "base_uri": "https://localhost:8080/"
        }
      },
      "outputs": [
        {
          "output_type": "stream",
          "name": "stdout",
          "text": [
            "Accuracy: 0.9\n",
            "___PREDICTED___ \t  ___ACTUAL___\n",
            "Iris-versicolor \t\t Iris-virginica\n",
            "Iris-virginica \t\t Iris-virginica\n",
            "Iris-virginica \t\t Iris-virginica\n",
            "Iris-versicolor \t\t Iris-versicolor\n",
            "Iris-virginica \t\t Iris-virginica\n",
            "Iris-versicolor \t\t Iris-versicolor\n",
            "Iris-virginica \t\t Iris-virginica\n",
            "Iris-versicolor \t\t Iris-versicolor\n",
            "Iris-virginica \t\t Iris-virginica\n",
            "Iris-virginica \t\t Iris-virginica\n",
            "Iris-virginica \t\t Iris-virginica\n",
            "Iris-setosa \t\t Iris-setosa\n",
            "Iris-setosa \t\t Iris-setosa\n",
            "Iris-versicolor \t\t Iris-versicolor\n",
            "Iris-setosa \t\t Iris-setosa\n",
            "Iris-versicolor \t\t Iris-virginica\n",
            "Iris-setosa \t\t Iris-setosa\n",
            "Iris-virginica \t\t Iris-versicolor\n",
            "Iris-setosa \t\t Iris-setosa\n",
            "Iris-setosa \t\t Iris-setosa\n",
            "Iris-versicolor \t\t Iris-versicolor\n",
            "Iris-virginica \t\t Iris-virginica\n",
            "Iris-setosa \t\t Iris-setosa\n",
            "Iris-setosa \t\t Iris-setosa\n",
            "Iris-versicolor \t\t Iris-versicolor\n",
            "Iris-versicolor \t\t Iris-versicolor\n",
            "Iris-versicolor \t\t Iris-versicolor\n",
            "Iris-versicolor \t\t Iris-versicolor\n",
            "Iris-setosa \t\t Iris-setosa\n",
            "Iris-versicolor \t\t Iris-versicolor\n",
            "-------------------------------------------------------\n",
            "                 Iris-setosa  Iris-versicolor  Iris-virginica\n",
            "Iris-setosa                9                0               0\n",
            "Iris-versicolor            0               10               1\n",
            "Iris-virginica             0                2               8\n"
          ]
        }
      ],
      "source": [
        "#classic scikit-learn algorithm\n",
        "\n",
        "#0. import libraries\n",
        "import sklearn\n",
        "import pandas\n",
        "from sklearn import tree\n",
        "from sklearn.model_selection import train_test_split\n",
        "from sklearn import metrics\n",
        "from sklearn import neighbors\n",
        "\n",
        "#1. load data\n",
        "path = '/content/drive/MyDrive/datasets/irisData.csv' #'/content/drive/MyDrive/CS167/datasets/irisData.csv'\n",
        "iris_data = pandas.read_csv(path)\n",
        "\n",
        "#2. split data\n",
        "predictors = ['sepal length', 'sepal width','petal length', 'petal width']\n",
        "target = \"species\"\n",
        "train_data, test_data, train_sln, test_sln = \\\n",
        "        train_test_split(iris_data[predictors], iris_data[target], test_size = 0.2, random_state=41)\n",
        "\n",
        "#3. Create classifier/regressor object (change these parameters for Exercise #1)\n",
        "dt = tree.DecisionTreeClassifier()\n",
        "\n",
        "#4. Call fit (to train the classification/regression model)\n",
        "dt.fit(train_data,train_sln)\n",
        "\n",
        "#5. Call predict to generate predictions\n",
        "iris_predictions = dt.predict(test_data)\n",
        "\n",
        "#6. Call a metric function to measure performance\n",
        "print(\"Accuracy:\", metrics.accuracy_score(test_sln,iris_predictions))\n",
        "\n",
        "# Show the acutal and predicted (this isn't necessary, but may help catch bugs)\n",
        "print(\"___PREDICTED___ \\t  ___ACTUAL___\")\n",
        "for i in range(len(test_sln)):\n",
        "    print(iris_predictions[i],\"\\t\\t\", test_sln.iloc[i])\n",
        "\n",
        "print(\"-------------------------------------------------------\")\n",
        "#print out a confusion matrix\n",
        "iris_labels= [\"Iris-setosa\", \"Iris-versicolor\",\"Iris-virginica\"]\n",
        "conf_mat = metrics.confusion_matrix(test_sln, iris_predictions, labels=iris_labels)\n",
        "print(pandas.DataFrame(conf_mat,index = iris_labels, columns = iris_labels))\n",
        "     "
      ]
    },
    {
      "cell_type": "markdown",
      "metadata": {
        "id": "G5ea8H8ArP4t"
      },
      "source": [
        "# Now, let's go through step-by-step:"
      ]
    },
    {
      "cell_type": "markdown",
      "metadata": {
        "id": "kyDEqTjorP4t"
      },
      "source": [
        "## Step 1: Import libraries and load your data\n",
        "\n",
        "We should be pretty familiar with this one.\n",
        "- mount your drive\n",
        "- import any relevant libraires\n",
        "- use `pd.read_csv()` to load in your dataset"
      ]
    },
    {
      "cell_type": "code",
      "execution_count": 11,
      "metadata": {
        "id": "bC4WcWi9rP4t",
        "colab": {
          "base_uri": "https://localhost:8080/"
        },
        "outputId": "de8a1346-ac56-439b-8a05-60bfe51fee17"
      },
      "outputs": [
        {
          "output_type": "stream",
          "name": "stdout",
          "text": [
            "Drive already mounted at /content/drive; to attempt to forcibly remount, call drive.mount(\"/content/drive\", force_remount=True).\n"
          ]
        }
      ],
      "source": [
        "# Mount your drive\n",
        "from google.colab import drive\n",
        "drive.mount('/content/drive')"
      ]
    },
    {
      "cell_type": "code",
      "execution_count": 13,
      "metadata": {
        "id": "c0sgMLxhrP4u"
      },
      "outputs": [],
      "source": [
        "#0. import libraries\n",
        "import sklearn\n",
        "import pandas\n",
        "from sklearn import tree\n",
        "from sklearn.model_selection import train_test_split\n",
        "from sklearn import metrics\n",
        "from sklearn import neighbors\n",
        "\n",
        "#1. load data\n",
        "path = '/content/drive/MyDrive/datasets/irisData.csv' #'/content/drive/MyDrive/CS167/datasets/irisData.csv'\n",
        "iris_data = pandas.read_csv(path)"
      ]
    },
    {
      "cell_type": "markdown",
      "metadata": {
        "id": "TcF8HmIUrP4u"
      },
      "source": [
        "## Step 2: Split Data\n",
        "\n",
        "Cross-Validation is an important step in machine learning which enables us to evaluate our models. To do this, we need to split our data into `train_data` and `test_data`.\n",
        "<div>\n",
        "<img src=\"https://github.com/merriekay/S23-CS167-Notes/blob/main/images/day04_cross_validation.png?raw=1\" width=600/>\n",
        "</div>"
      ]
    },
    {
      "cell_type": "markdown",
      "metadata": {
        "id": "3pDnFTSYrP4u"
      },
      "source": [
        "Sklearn takes this a step futher and splits the data up into 4 pieces: \n",
        "\n",
        "<div>\n",
        "<img src=\"https://github.com/merriekay/S23-CS167-Notes/blob/main/images/day06_traintestsplit.png?raw=1\" width=600/>\n",
        "</div>\n",
        "\n",
        "- `train_data`: holds the predictor variables of the training set\n",
        "- `train_sln`: holds the target variable of the training set\n",
        "- `test_data`: holds the predictor variables of the testing set\n",
        "- `test_sln`: holds the target varibles of the testing set"
      ]
    },
    {
      "cell_type": "markdown",
      "metadata": {
        "id": "rxrhdGt1rP4u"
      },
      "source": [
        "## Step 2: Splitting Data (the code)"
      ]
    },
    {
      "cell_type": "code",
      "execution_count": 14,
      "metadata": {
        "id": "7pewwct2rP4u"
      },
      "outputs": [],
      "source": [
        "#2. split data\n",
        "predictors = ['sepal length', 'sepal width','petal length', 'petal width']\n",
        "#predictors = data.columns.drop('species')\n",
        "target = \"species\"\n",
        "train_data, test_data, train_sln, test_sln = train_test_split(iris_data[predictors], iris_data[target], test_size = 0.2, random_state=41)"
      ]
    },
    {
      "cell_type": "code",
      "execution_count": 15,
      "metadata": {
        "id": "iLrlW921rP4u",
        "outputId": "70911d62-4aa5-4740-b077-b37c7aa0b78f",
        "colab": {
          "base_uri": "https://localhost:8080/",
          "height": 278
        }
      },
      "outputs": [
        {
          "output_type": "stream",
          "name": "stdout",
          "text": [
            "train_data shape:  (120, 4)\n",
            "test_data shape:  (30, 4)\n",
            "train_sln shape:  (120,)\n",
            "test_sln shape:  (30,)\n"
          ]
        },
        {
          "output_type": "execute_result",
          "data": {
            "text/plain": [
              "     sepal length  sepal width  petal length  petal width\n",
              "79            5.7          2.6           3.5          1.0\n",
              "54            6.5          2.8           4.6          1.5\n",
              "106           4.9          2.5           4.5          1.7\n",
              "90            5.5          2.6           4.4          1.2\n",
              "145           6.7          3.0           5.2          2.3"
            ],
            "text/html": [
              "\n",
              "  <div id=\"df-c5cee4c7-ef5e-41d5-ae36-27bc8b7a4468\">\n",
              "    <div class=\"colab-df-container\">\n",
              "      <div>\n",
              "<style scoped>\n",
              "    .dataframe tbody tr th:only-of-type {\n",
              "        vertical-align: middle;\n",
              "    }\n",
              "\n",
              "    .dataframe tbody tr th {\n",
              "        vertical-align: top;\n",
              "    }\n",
              "\n",
              "    .dataframe thead th {\n",
              "        text-align: right;\n",
              "    }\n",
              "</style>\n",
              "<table border=\"1\" class=\"dataframe\">\n",
              "  <thead>\n",
              "    <tr style=\"text-align: right;\">\n",
              "      <th></th>\n",
              "      <th>sepal length</th>\n",
              "      <th>sepal width</th>\n",
              "      <th>petal length</th>\n",
              "      <th>petal width</th>\n",
              "    </tr>\n",
              "  </thead>\n",
              "  <tbody>\n",
              "    <tr>\n",
              "      <th>79</th>\n",
              "      <td>5.7</td>\n",
              "      <td>2.6</td>\n",
              "      <td>3.5</td>\n",
              "      <td>1.0</td>\n",
              "    </tr>\n",
              "    <tr>\n",
              "      <th>54</th>\n",
              "      <td>6.5</td>\n",
              "      <td>2.8</td>\n",
              "      <td>4.6</td>\n",
              "      <td>1.5</td>\n",
              "    </tr>\n",
              "    <tr>\n",
              "      <th>106</th>\n",
              "      <td>4.9</td>\n",
              "      <td>2.5</td>\n",
              "      <td>4.5</td>\n",
              "      <td>1.7</td>\n",
              "    </tr>\n",
              "    <tr>\n",
              "      <th>90</th>\n",
              "      <td>5.5</td>\n",
              "      <td>2.6</td>\n",
              "      <td>4.4</td>\n",
              "      <td>1.2</td>\n",
              "    </tr>\n",
              "    <tr>\n",
              "      <th>145</th>\n",
              "      <td>6.7</td>\n",
              "      <td>3.0</td>\n",
              "      <td>5.2</td>\n",
              "      <td>2.3</td>\n",
              "    </tr>\n",
              "  </tbody>\n",
              "</table>\n",
              "</div>\n",
              "      <button class=\"colab-df-convert\" onclick=\"convertToInteractive('df-c5cee4c7-ef5e-41d5-ae36-27bc8b7a4468')\"\n",
              "              title=\"Convert this dataframe to an interactive table.\"\n",
              "              style=\"display:none;\">\n",
              "        \n",
              "  <svg xmlns=\"http://www.w3.org/2000/svg\" height=\"24px\"viewBox=\"0 0 24 24\"\n",
              "       width=\"24px\">\n",
              "    <path d=\"M0 0h24v24H0V0z\" fill=\"none\"/>\n",
              "    <path d=\"M18.56 5.44l.94 2.06.94-2.06 2.06-.94-2.06-.94-.94-2.06-.94 2.06-2.06.94zm-11 1L8.5 8.5l.94-2.06 2.06-.94-2.06-.94L8.5 2.5l-.94 2.06-2.06.94zm10 10l.94 2.06.94-2.06 2.06-.94-2.06-.94-.94-2.06-.94 2.06-2.06.94z\"/><path d=\"M17.41 7.96l-1.37-1.37c-.4-.4-.92-.59-1.43-.59-.52 0-1.04.2-1.43.59L10.3 9.45l-7.72 7.72c-.78.78-.78 2.05 0 2.83L4 21.41c.39.39.9.59 1.41.59.51 0 1.02-.2 1.41-.59l7.78-7.78 2.81-2.81c.8-.78.8-2.07 0-2.86zM5.41 20L4 18.59l7.72-7.72 1.47 1.35L5.41 20z\"/>\n",
              "  </svg>\n",
              "      </button>\n",
              "      \n",
              "  <style>\n",
              "    .colab-df-container {\n",
              "      display:flex;\n",
              "      flex-wrap:wrap;\n",
              "      gap: 12px;\n",
              "    }\n",
              "\n",
              "    .colab-df-convert {\n",
              "      background-color: #E8F0FE;\n",
              "      border: none;\n",
              "      border-radius: 50%;\n",
              "      cursor: pointer;\n",
              "      display: none;\n",
              "      fill: #1967D2;\n",
              "      height: 32px;\n",
              "      padding: 0 0 0 0;\n",
              "      width: 32px;\n",
              "    }\n",
              "\n",
              "    .colab-df-convert:hover {\n",
              "      background-color: #E2EBFA;\n",
              "      box-shadow: 0px 1px 2px rgba(60, 64, 67, 0.3), 0px 1px 3px 1px rgba(60, 64, 67, 0.15);\n",
              "      fill: #174EA6;\n",
              "    }\n",
              "\n",
              "    [theme=dark] .colab-df-convert {\n",
              "      background-color: #3B4455;\n",
              "      fill: #D2E3FC;\n",
              "    }\n",
              "\n",
              "    [theme=dark] .colab-df-convert:hover {\n",
              "      background-color: #434B5C;\n",
              "      box-shadow: 0px 1px 3px 1px rgba(0, 0, 0, 0.15);\n",
              "      filter: drop-shadow(0px 1px 2px rgba(0, 0, 0, 0.3));\n",
              "      fill: #FFFFFF;\n",
              "    }\n",
              "  </style>\n",
              "\n",
              "      <script>\n",
              "        const buttonEl =\n",
              "          document.querySelector('#df-c5cee4c7-ef5e-41d5-ae36-27bc8b7a4468 button.colab-df-convert');\n",
              "        buttonEl.style.display =\n",
              "          google.colab.kernel.accessAllowed ? 'block' : 'none';\n",
              "\n",
              "        async function convertToInteractive(key) {\n",
              "          const element = document.querySelector('#df-c5cee4c7-ef5e-41d5-ae36-27bc8b7a4468');\n",
              "          const dataTable =\n",
              "            await google.colab.kernel.invokeFunction('convertToInteractive',\n",
              "                                                     [key], {});\n",
              "          if (!dataTable) return;\n",
              "\n",
              "          const docLinkHtml = 'Like what you see? Visit the ' +\n",
              "            '<a target=\"_blank\" href=https://colab.research.google.com/notebooks/data_table.ipynb>data table notebook</a>'\n",
              "            + ' to learn more about interactive tables.';\n",
              "          element.innerHTML = '';\n",
              "          dataTable['output_type'] = 'display_data';\n",
              "          await google.colab.output.renderOutput(dataTable, element);\n",
              "          const docLink = document.createElement('div');\n",
              "          docLink.innerHTML = docLinkHtml;\n",
              "          element.appendChild(docLink);\n",
              "        }\n",
              "      </script>\n",
              "    </div>\n",
              "  </div>\n",
              "  "
            ]
          },
          "metadata": {},
          "execution_count": 15
        }
      ],
      "source": [
        "# take a look at the data... make sure you understand what split of data is stored in each \n",
        "print('train_data shape: ',train_data.shape)\n",
        "print('test_data shape: ',test_data.shape)\n",
        "print('train_sln shape: ',train_sln.shape)\n",
        "print('test_sln shape: ',test_sln.shape)\n",
        "\n",
        "train_data.head()"
      ]
    },
    {
      "cell_type": "markdown",
      "metadata": {
        "id": "3ONonC0HrP4u"
      },
      "source": [
        "## Step 3: Create classifier/regressor object\n",
        "\n",
        "The syntax/wording for this is going to come directly from the `sklearn` documentation.\n",
        "- [Scikit Learn Decision Tree documentation](https://scikit-learn.org/stable/modules/generated/sklearn.tree.DecisionTreeClassifier.html)\n",
        "\n",
        "The name of the model will change based on whether you are doing a __classification__ or __regression__. \n",
        "- generally in the name: \n",
        "    - `tree.DecicionTreeClassifier()`\n",
        "    - `tree.DecisionTreeRegressor()`"
      ]
    },
    {
      "cell_type": "code",
      "execution_count": 16,
      "metadata": {
        "id": "9ou-_gJirP4v"
      },
      "outputs": [],
      "source": [
        "#3. Create classifier/regressor object (change these parameters for Exercise #1)\n",
        "dt = tree.DecisionTreeClassifier()"
      ]
    },
    {
      "cell_type": "markdown",
      "metadata": {
        "id": "FqDhnnmKrP4v"
      },
      "source": [
        "## Step 4: Call `fit()` to train the model\n",
        "\n",
        "Each machine learning model has a training process associated with it. Scikit learn makes it easy to train whatever model you choose by simply calling `fit()` on that model. \n",
        "\n",
        "We generally pass two things into `fit()`:\n",
        "- `train_data`: the predictor variables we want to train our model on\n",
        "- `train_sln`: the labels for each training examples\n"
      ]
    },
    {
      "cell_type": "code",
      "execution_count": 17,
      "metadata": {
        "id": "dOtQoCHYrP4v",
        "outputId": "6112714e-97a3-447b-edeb-dc22226d4bcd",
        "colab": {
          "base_uri": "https://localhost:8080/"
        }
      },
      "outputs": [
        {
          "output_type": "execute_result",
          "data": {
            "text/plain": [
              "DecisionTreeClassifier()"
            ]
          },
          "metadata": {},
          "execution_count": 17
        }
      ],
      "source": [
        "dt.fit(train_data, train_sln)"
      ]
    },
    {
      "cell_type": "markdown",
      "metadata": {
        "id": "Y3yo4FxzrP4v"
      },
      "source": [
        "## Step 5: Call `predict()` to get predictions\n",
        "\n",
        "After our model is trained, it's time to run our testing data through our model and see what the model predicts. \n",
        "\n",
        "Scikit learn lets us do this in one line: \n",
        "- we're saving what the function is returning as `predictions`\n",
        "- passing in `test_data`, which is the data without labels that was not included in training"
      ]
    },
    {
      "cell_type": "code",
      "execution_count": 18,
      "metadata": {
        "id": "_qVmvez9rP4v"
      },
      "outputs": [],
      "source": [
        "predictions = dt.predict(test_data)"
      ]
    },
    {
      "cell_type": "markdown",
      "metadata": {
        "id": "u4pWXvxbrP4v"
      },
      "source": [
        "# Step 6: Evaluate the Model\n",
        "\n",
        "Now that we have some predictions, we need to check to see how close we were by passing our predictions and the actual correct answers into a metric function. \n",
        "\n",
        "| **Type of ML** | **Metric**                | **Description**                                                                                       | Scikit Learn                                                                                                                                                            |\n",
        "|----------------|---------------------------|:-------------------------------------------------------------------------------------------------------|:-------------------------------------------------------------------------------------------------------------------------------------------------------------------------|\n",
        "| Classification | Accuracy                  | Number correct examples divided by total number                                                       | [`sklearn.metrics.accuracy_score`](https://scikit-learn.org/stable/modules/generated/sklearn.metrics.accuracy_score.html)                                               |\n",
        "| Classification | Confusion Matrix          | Detailed table of where our model got confused.                                                       | [`sklearn.metrics.confusion_matrix`](https://scikit-learn.org/stable/modules/generated/sklearn.metrics.confusion_matrix.html#sklearn.metrics.confusion_matrix)          |\n",
        "| Regression     | Mean Absolute Error (MAE) | The average absolute distance from the target variable                                                | [`sklearn.metrics.mean_absolute_error`](https://scikit-learn.org/stable/modules/generated/sklearn.metrics.mean_absolute_error.html#sklearn.metrics.mean_absolute_error) |\n",
        "| Regression     | Mean Squared Error (MSE)  | The average squared distance from the target variable                                                 | [`sklearn.metrics.mean_squared_error`](https://scikit-learn.org/stable/modules/generated/sklearn.metrics.mean_squared_error.html#sklearn.metrics.mean_squared_error)    |\n",
        "| Regression     | $R^2$                     | 1: perfectly fit data 0: same performance as guessing the mean of the target variable -1: really bad. | [`sklearn.metrics.r2_score`](https://scikit-learn.org/stable/modules/generated/sklearn.metrics.r2_score.html#sklearn.metrics.r2_score)                                  |\n",
        "\n",
        "Available metrics can be found in the sklearn documentation [[sklearn metrics]](https://scikit-learn.org/stable/modules/classes.html#module-sklearn.metrics)"
      ]
    },
    {
      "cell_type": "code",
      "execution_count": 19,
      "metadata": {
        "id": "OXZSauyLrP4w",
        "outputId": "88127aa0-af4a-4145-f583-ce152871724e",
        "colab": {
          "base_uri": "https://localhost:8080/"
        }
      },
      "outputs": [
        {
          "output_type": "stream",
          "name": "stdout",
          "text": [
            "Accuracy: 0.9\n"
          ]
        }
      ],
      "source": [
        "from sklearn import metrics\n",
        "#6. call a metric function to evaluate the model\n",
        "print(\"Accuracy:\", metrics.accuracy_score(test_sln, predictions))"
      ]
    },
    {
      "cell_type": "markdown",
      "metadata": {
        "id": "eBayF0zOrP4w"
      },
      "source": [
        "### Here's an example of displaying a confusion matrix:\n",
        "\n",
        "Documentation link: https://scikit-learn.org/stable/modules/generated/sklearn.metrics.ConfusionMatrixDisplay.html#sklearn.metrics.ConfusionMatrixDisplay \n"
      ]
    },
    {
      "cell_type": "code",
      "execution_count": 20,
      "metadata": {
        "id": "KRuhcw07rP4w",
        "outputId": "96d7f9d3-8941-4a2a-8736-2af19c760e3b",
        "colab": {
          "base_uri": "https://localhost:8080/"
        }
      },
      "outputs": [
        {
          "output_type": "stream",
          "name": "stdout",
          "text": [
            "[[ 9  0  0]\n",
            " [ 0 10  1]\n",
            " [ 0  2  8]]\n"
          ]
        }
      ],
      "source": [
        "from sklearn.metrics import ConfusionMatrixDisplay\n",
        "import matplotlib.pyplot as plt\n",
        "#print out a confusion matrix\n",
        "iris_labels= [\"Iris-setosa\", \"Iris-versicolor\",\"Iris-virginica\"]\n",
        "conf_mat = metrics.confusion_matrix(test_sln, predictions, labels=iris_labels)\n",
        "print(conf_mat)"
      ]
    },
    {
      "cell_type": "code",
      "execution_count": 21,
      "metadata": {
        "id": "f9tNoLwWrP4w",
        "outputId": "23cd24b7-8081-41e0-f0bc-fbe79f357f82",
        "colab": {
          "base_uri": "https://localhost:8080/",
          "height": 354
        }
      },
      "outputs": [
        {
          "output_type": "stream",
          "name": "stdout",
          "text": [
            "                 Iris-setosa  Iris-versicolor  Iris-virginica\n",
            "Iris-setosa                9                0               0\n",
            "Iris-versicolor            0               10               1\n",
            "Iris-virginica             0                2               8\n"
          ]
        },
        {
          "output_type": "display_data",
          "data": {
            "text/plain": [
              "<Figure size 432x288 with 2 Axes>"
            ],
            "image/png": "[encoded data removed]"
          },
          "metadata": {
            "needs_background": "light"
          }
        }
      ],
      "source": [
        "#displaying a confusion matrix\n",
        "\n",
        "# option #1: text\n",
        "print(pandas.DataFrame(conf_mat,index = iris_labels, columns = iris_labels))\n",
        "\n",
        "# option #2: prettify\n",
        "displ = ConfusionMatrixDisplay(confusion_matrix=conf_mat, display_labels=iris_labels)\n",
        "displ.plot()\n",
        "plt.show()"
      ]
    },
    {
      "cell_type": "markdown",
      "metadata": {
        "id": "y_qndmB_rP4w"
      },
      "source": [
        "## (Optional) Step 7: Print out the results to debug\n",
        "\n",
        "Sometimes its helpful to take a closer look at your predictions. Here's some code to do just that:"
      ]
    },
    {
      "cell_type": "code",
      "execution_count": 22,
      "metadata": {
        "id": "q4hRQDp_rP4w",
        "outputId": "d14cf29d-f58b-4830-dc18-cef12aa87549",
        "colab": {
          "base_uri": "https://localhost:8080/"
        }
      },
      "outputs": [
        {
          "output_type": "stream",
          "name": "stdout",
          "text": [
            "___PREDICTED___ \t  ___ACTUAL___\n",
            "Iris-versicolor \t\t Iris-virginica\n",
            "Iris-virginica \t\t Iris-virginica\n",
            "Iris-virginica \t\t Iris-virginica\n",
            "Iris-versicolor \t\t Iris-versicolor\n",
            "Iris-virginica \t\t Iris-virginica\n",
            "Iris-versicolor \t\t Iris-versicolor\n",
            "Iris-virginica \t\t Iris-virginica\n",
            "Iris-versicolor \t\t Iris-versicolor\n",
            "Iris-virginica \t\t Iris-virginica\n",
            "Iris-virginica \t\t Iris-virginica\n",
            "Iris-virginica \t\t Iris-virginica\n",
            "Iris-setosa \t\t Iris-setosa\n",
            "Iris-setosa \t\t Iris-setosa\n",
            "Iris-versicolor \t\t Iris-versicolor\n",
            "Iris-setosa \t\t Iris-setosa\n",
            "Iris-versicolor \t\t Iris-virginica\n",
            "Iris-setosa \t\t Iris-setosa\n",
            "Iris-virginica \t\t Iris-versicolor\n",
            "Iris-setosa \t\t Iris-setosa\n",
            "Iris-setosa \t\t Iris-setosa\n",
            "Iris-versicolor \t\t Iris-versicolor\n",
            "Iris-virginica \t\t Iris-virginica\n",
            "Iris-setosa \t\t Iris-setosa\n",
            "Iris-setosa \t\t Iris-setosa\n",
            "Iris-versicolor \t\t Iris-versicolor\n",
            "Iris-versicolor \t\t Iris-versicolor\n",
            "Iris-versicolor \t\t Iris-versicolor\n",
            "Iris-versicolor \t\t Iris-versicolor\n",
            "Iris-setosa \t\t Iris-setosa\n",
            "Iris-versicolor \t\t Iris-versicolor\n"
          ]
        }
      ],
      "source": [
        "# Show the acutal and predicted (this isn't necessary, but may help catch bugs)\n",
        "print(\"___PREDICTED___ \\t  ___ACTUAL___\")\n",
        "for i in range(len(test_sln)):\n",
        "    print(predictions[i],\"\\t\\t\", test_sln.iloc[i])"
      ]
    },
    {
      "cell_type": "markdown",
      "metadata": {
        "id": "ftNJ-2vFrP4w"
      },
      "source": [
        "# 💬 Group Exercise #1: \n",
        "\n",
        "Take a look at the [Decision Tree Classifier Documentation](https://scikit-learn.org/stable/modules/generated/sklearn.tree.DecisionTreeClassifier.html):\n",
        "- Experiment with different `random_state`s\n",
        "- Explore different parameters you could use in the `DecisionTreeClassifier`\n",
        "- Can you improve the 90% accuracy with `random_state=41`?\n",
        "- What happens when you do this? Why?"
      ]
    },
    {
      "cell_type": "code",
      "execution_count": null,
      "metadata": {
        "id": "qmt9mJX8rP4x"
      },
      "outputs": [],
      "source": []
    },
    {
      "cell_type": "markdown",
      "metadata": {
        "id": "Bk8xupjprP4x"
      },
      "source": [
        "# Plotting Decision Trees\n",
        "\n",
        "You can use `matplotlib` to plot decision trees using the `sklearn.tree.plot_tree` method. "
      ]
    },
    {
      "cell_type": "code",
      "execution_count": 23,
      "metadata": {
        "id": "H6sd23aIrP4x",
        "outputId": "3ad754f8-abcb-4bad-b77f-3a8991ca213b",
        "colab": {
          "base_uri": "https://localhost:8080/",
          "height": 520
        }
      },
      "outputs": [
        {
          "output_type": "display_data",
          "data": {
            "text/plain": [
              "<Figure size 648x648 with 1 Axes>"
            ],
            "image/png": "[encoded data removed]"
          },
          "metadata": {
            "needs_background": "light"
          }
        }
      ],
      "source": [
        "# visualizing decision tree\n",
        "import matplotlib.pyplot as plt\n",
        "\n",
        "plt.figure(figsize=(9,9)) # Makes it so the graph isn't tiny\n",
        "tree.plot_tree(dt); #if you remove the ;, you'll get more information about the tree"
      ]
    },
    {
      "cell_type": "code",
      "execution_count": null,
      "metadata": {
        "id": "-fUset_yrP4x"
      },
      "outputs": [],
      "source": [
        "#including this to make the plot display during slide mode"
      ]
    },
    {
      "cell_type": "code",
      "execution_count": 24,
      "metadata": {
        "id": "Wcb_BN5JrP4x",
        "outputId": "4411ff09-7b69-4f5b-9a96-a5d12bdf2f4e",
        "colab": {
          "base_uri": "https://localhost:8080/",
          "height": 756
        }
      },
      "outputs": [
        {
          "output_type": "display_data",
          "data": {
            "text/plain": [
              "<Figure size 900x900 with 1 Axes>"
            ],
            "image/png": "[encoded data removed]"
          },
          "metadata": {
            "needs_background": "light"
          }
        }
      ],
      "source": [
        "#tweak paramters to make it pretty\n",
        "import matplotlib.pyplot as plt\n",
        "fn=['sepal length (cm)','sepal width (cm)','petal length (cm)','petal width (cm)']\n",
        "cn=['setosa', 'versicolor', 'virginica']\n",
        "fig, axes = plt.subplots(nrows = 1,ncols = 1,figsize = (3,3), dpi=300)\n",
        "tree.plot_tree(dt,\n",
        "               feature_names = fn, \n",
        "               class_names=cn,\n",
        "               filled = True);"
      ]
    },
    {
      "cell_type": "code",
      "execution_count": null,
      "metadata": {
        "id": "zv4OA44LrP4x"
      },
      "outputs": [],
      "source": [
        "#including this to make the plot display during slide mode"
      ]
    },
    {
      "cell_type": "markdown",
      "metadata": {
        "id": "STLarMztrP4x"
      },
      "source": [
        "## Another pretty Confusion Matrix"
      ]
    },
    {
      "cell_type": "code",
      "execution_count": 25,
      "metadata": {
        "id": "gTUQZb0yrP4y",
        "outputId": "b2c2eb6e-126e-4887-fcd1-c992721794c2",
        "colab": {
          "base_uri": "https://localhost:8080/",
          "height": 358
        }
      },
      "outputs": [
        {
          "output_type": "execute_result",
          "data": {
            "text/plain": [
              "Text(0.5, 0, 'Predicted label')"
            ]
          },
          "metadata": {},
          "execution_count": 25
        },
        {
          "output_type": "display_data",
          "data": {
            "text/plain": [
              "<Figure size 432x288 with 2 Axes>"
            ],
            "image/png": "[encoded data removed]"
          },
          "metadata": {
            "needs_background": "light"
          }
        }
      ],
      "source": [
        "# a pretty confusion matrix\n",
        "import itertools\n",
        "\n",
        "cm=metrics.confusion_matrix(test_sln,predictions)\n",
        "plt.imshow(cm, interpolation='nearest',cmap=plt.cm.Blues)\n",
        "plt.title('Decision Tree Conf Matrix, Iris Data')\n",
        "plt.colorbar()\n",
        "plt.xticks([0,1,2], dt.classes_,rotation=45)\n",
        "plt.yticks([0,1,2], dt.classes_)\n",
        "thresh = cm.max() / 2.\n",
        "for i, j in itertools.product(range(cm.shape[0]), range(cm.shape[1])):\n",
        "        plt.text(j, i, format(cm[i, j], '.2f'),\n",
        "                horizontalalignment=\"center\",\n",
        "                color=\"white\" if cm[i, j] > thresh else \"black\")\n",
        "plt.ylabel('True label')\n",
        "plt.xlabel('Predicted label')"
      ]
    },
    {
      "cell_type": "markdown",
      "metadata": {
        "id": "gTsA4tWIrP4y"
      },
      "source": [
        "# Normalizing using `StandardScaler`\n",
        "\n",
        "**Documentation**: [`sklearn.preprocessing.StandardScaler`](https://scikit-learn.org/stable/modules/generated/sklearn.preprocessing.StandardScaler.html)\n"
      ]
    },
    {
      "cell_type": "code",
      "execution_count": 26,
      "metadata": {
        "id": "G-ux5gYqrP4y",
        "outputId": "78ace8f7-9b7f-483b-bfc6-237a1d5dbd04",
        "colab": {
          "base_uri": "https://localhost:8080/",
          "height": 206
        }
      },
      "outputs": [
        {
          "output_type": "execute_result",
          "data": {
            "text/plain": [
              "     sepal length  sepal width  petal length  petal width\n",
              "79            5.7          2.6           3.5          1.0\n",
              "54            6.5          2.8           4.6          1.5\n",
              "106           4.9          2.5           4.5          1.7\n",
              "90            5.5          2.6           4.4          1.2\n",
              "145           6.7          3.0           5.2          2.3"
            ],
            "text/html": [
              "\n",
              "  <div id=\"df-de341527-1856-4cf1-8594-8503e440721a\">\n",
              "    <div class=\"colab-df-container\">\n",
              "      <div>\n",
              "<style scoped>\n",
              "    .dataframe tbody tr th:only-of-type {\n",
              "        vertical-align: middle;\n",
              "    }\n",
              "\n",
              "    .dataframe tbody tr th {\n",
              "        vertical-align: top;\n",
              "    }\n",
              "\n",
              "    .dataframe thead th {\n",
              "        text-align: right;\n",
              "    }\n",
              "</style>\n",
              "<table border=\"1\" class=\"dataframe\">\n",
              "  <thead>\n",
              "    <tr style=\"text-align: right;\">\n",
              "      <th></th>\n",
              "      <th>sepal length</th>\n",
              "      <th>sepal width</th>\n",
              "      <th>petal length</th>\n",
              "      <th>petal width</th>\n",
              "    </tr>\n",
              "  </thead>\n",
              "  <tbody>\n",
              "    <tr>\n",
              "      <th>79</th>\n",
              "      <td>5.7</td>\n",
              "      <td>2.6</td>\n",
              "      <td>3.5</td>\n",
              "      <td>1.0</td>\n",
              "    </tr>\n",
              "    <tr>\n",
              "      <th>54</th>\n",
              "      <td>6.5</td>\n",
              "      <td>2.8</td>\n",
              "      <td>4.6</td>\n",
              "      <td>1.5</td>\n",
              "    </tr>\n",
              "    <tr>\n",
              "      <th>106</th>\n",
              "      <td>4.9</td>\n",
              "      <td>2.5</td>\n",
              "      <td>4.5</td>\n",
              "      <td>1.7</td>\n",
              "    </tr>\n",
              "    <tr>\n",
              "      <th>90</th>\n",
              "      <td>5.5</td>\n",
              "      <td>2.6</td>\n",
              "      <td>4.4</td>\n",
              "      <td>1.2</td>\n",
              "    </tr>\n",
              "    <tr>\n",
              "      <th>145</th>\n",
              "      <td>6.7</td>\n",
              "      <td>3.0</td>\n",
              "      <td>5.2</td>\n",
              "      <td>2.3</td>\n",
              "    </tr>\n",
              "  </tbody>\n",
              "</table>\n",
              "</div>\n",
              "      <button class=\"colab-df-convert\" onclick=\"convertToInteractive('df-de341527-1856-4cf1-8594-8503e440721a')\"\n",
              "              title=\"Convert this dataframe to an interactive table.\"\n",
              "              style=\"display:none;\">\n",
              "        \n",
              "  <svg xmlns=\"http://www.w3.org/2000/svg\" height=\"24px\"viewBox=\"0 0 24 24\"\n",
              "       width=\"24px\">\n",
              "    <path d=\"M0 0h24v24H0V0z\" fill=\"none\"/>\n",
              "    <path d=\"M18.56 5.44l.94 2.06.94-2.06 2.06-.94-2.06-.94-.94-2.06-.94 2.06-2.06.94zm-11 1L8.5 8.5l.94-2.06 2.06-.94-2.06-.94L8.5 2.5l-.94 2.06-2.06.94zm10 10l.94 2.06.94-2.06 2.06-.94-2.06-.94-.94-2.06-.94 2.06-2.06.94z\"/><path d=\"M17.41 7.96l-1.37-1.37c-.4-.4-.92-.59-1.43-.59-.52 0-1.04.2-1.43.59L10.3 9.45l-7.72 7.72c-.78.78-.78 2.05 0 2.83L4 21.41c.39.39.9.59 1.41.59.51 0 1.02-.2 1.41-.59l7.78-7.78 2.81-2.81c.8-.78.8-2.07 0-2.86zM5.41 20L4 18.59l7.72-7.72 1.47 1.35L5.41 20z\"/>\n",
              "  </svg>\n",
              "      </button>\n",
              "      \n",
              "  <style>\n",
              "    .colab-df-container {\n",
              "      display:flex;\n",
              "      flex-wrap:wrap;\n",
              "      gap: 12px;\n",
              "    }\n",
              "\n",
              "    .colab-df-convert {\n",
              "      background-color: #E8F0FE;\n",
              "      border: none;\n",
              "      border-radius: 50%;\n",
              "      cursor: pointer;\n",
              "      display: none;\n",
              "      fill: #1967D2;\n",
              "      height: 32px;\n",
              "      padding: 0 0 0 0;\n",
              "      width: 32px;\n",
              "    }\n",
              "\n",
              "    .colab-df-convert:hover {\n",
              "      background-color: #E2EBFA;\n",
              "      box-shadow: 0px 1px 2px rgba(60, 64, 67, 0.3), 0px 1px 3px 1px rgba(60, 64, 67, 0.15);\n",
              "      fill: #174EA6;\n",
              "    }\n",
              "\n",
              "    [theme=dark] .colab-df-convert {\n",
              "      background-color: #3B4455;\n",
              "      fill: #D2E3FC;\n",
              "    }\n",
              "\n",
              "    [theme=dark] .colab-df-convert:hover {\n",
              "      background-color: #434B5C;\n",
              "      box-shadow: 0px 1px 3px 1px rgba(0, 0, 0, 0.15);\n",
              "      filter: drop-shadow(0px 1px 2px rgba(0, 0, 0, 0.3));\n",
              "      fill: #FFFFFF;\n",
              "    }\n",
              "  </style>\n",
              "\n",
              "      <script>\n",
              "        const buttonEl =\n",
              "          document.querySelector('#df-de341527-1856-4cf1-8594-8503e440721a button.colab-df-convert');\n",
              "        buttonEl.style.display =\n",
              "          google.colab.kernel.accessAllowed ? 'block' : 'none';\n",
              "\n",
              "        async function convertToInteractive(key) {\n",
              "          const element = document.querySelector('#df-de341527-1856-4cf1-8594-8503e440721a');\n",
              "          const dataTable =\n",
              "            await google.colab.kernel.invokeFunction('convertToInteractive',\n",
              "                                                     [key], {});\n",
              "          if (!dataTable) return;\n",
              "\n",
              "          const docLinkHtml = 'Like what you see? Visit the ' +\n",
              "            '<a target=\"_blank\" href=https://colab.research.google.com/notebooks/data_table.ipynb>data table notebook</a>'\n",
              "            + ' to learn more about interactive tables.';\n",
              "          element.innerHTML = '';\n",
              "          dataTable['output_type'] = 'display_data';\n",
              "          await google.colab.output.renderOutput(dataTable, element);\n",
              "          const docLink = document.createElement('div');\n",
              "          docLink.innerHTML = docLinkHtml;\n",
              "          element.appendChild(docLink);\n",
              "        }\n",
              "      </script>\n",
              "    </div>\n",
              "  </div>\n",
              "  "
            ]
          },
          "metadata": {},
          "execution_count": 26
        }
      ],
      "source": [
        "train_data.head()"
      ]
    },
    {
      "cell_type": "code",
      "execution_count": 27,
      "metadata": {
        "id": "K_VN4-uMrP4y",
        "outputId": "e2205814-c8c8-4163-e355-ad69290e96ce",
        "colab": {
          "base_uri": "https://localhost:8080/"
        }
      },
      "outputs": [
        {
          "output_type": "execute_result",
          "data": {
            "text/plain": [
              "array([[-0.18688501, -1.09883199, -0.14183598, -0.25284018],\n",
              "       [ 0.77252466, -0.6472572 ,  0.47403077,  0.39546797],\n",
              "       [-1.14629467, -1.32461939,  0.41804288,  0.65479123],\n",
              "       [-0.42673742, -1.09883199,  0.362055  ,  0.00648308],\n",
              "       [ 1.01237707, -0.19568241,  0.80995808,  1.43276101],\n",
              "       [-0.0669588 ,  2.06219154, -1.42955736, -1.29013322],\n",
              "       [ 1.25222949,  0.03010499,  0.7539702 ,  1.43276101],\n",
              "       [ 0.65259845,  0.25589238,  0.41804288,  0.39546797],\n",
              "       [ 1.25222949,  0.03010499,  0.92193386,  1.17343775],\n",
              "       [ 0.05296741,  0.25589238,  0.58600654,  0.78445286],\n",
              "       [ 0.41274603, -0.4214698 ,  0.30606711,  0.13614471],\n",
              "       [-0.18688501, -0.6472572 ,  0.41804288,  0.13614471],\n",
              "       [-0.78651605,  2.28797894, -1.2615937 , -1.41979485],\n",
              "       [ 0.77252466, -0.19568241,  1.1458854 ,  1.30309938],\n",
              "       [ 0.53267224,  0.70746717,  1.03390963,  1.56242264],\n",
              "       [-0.18688501,  1.61061675, -1.14961793, -1.16047159],\n",
              "       [ 1.01237707, -1.32461939,  1.1458854 ,  0.78445286],\n",
              "       [-0.90644226, -1.32461939, -0.42177541, -0.12317855],\n",
              "       [-1.26622088, -0.19568241, -1.31758158, -1.16047159],\n",
              "       [ 0.41274603, -2.00198157,  0.41804288,  0.39546797],\n",
              "       [ 0.65259845, -0.8730446 ,  0.86594597,  0.91411449],\n",
              "       [-0.0669588 , -0.8730446 ,  0.08211557,  0.00648308],\n",
              "       [ 1.85186053, -0.6472572 ,  1.31384906,  0.91411449],\n",
              "       [-0.78651605,  0.93325457, -1.2615937 , -1.29013322],\n",
              "       [-0.42673742,  2.51376633, -1.31758158, -1.29013322],\n",
              "       [ 0.05296741, -0.19568241,  0.7539702 ,  0.78445286],\n",
              "       [ 0.41274603, -0.6472572 ,  0.58600654,  0.78445286],\n",
              "       [-1.5060733 ,  0.03010499, -1.2615937 , -1.29013322],\n",
              "       [-0.30681122, -0.19568241,  0.41804288,  0.39546797],\n",
              "       [-1.5060733 ,  0.70746717, -1.31758158, -1.16047159],\n",
              "       [-1.14629467,  0.03010499, -1.2615937 , -1.41979485],\n",
              "       [ 0.89245087, -0.19568241,  0.362055  ,  0.26580634],\n",
              "       [-0.54666363,  1.83640415, -1.37356947, -1.03080996],\n",
              "       [-1.14629467, -1.55040678, -0.25381175, -0.25284018],\n",
              "       [ 0.41274603,  0.70746717,  0.92193386,  1.43276101],\n",
              "       [-1.02636846, -0.19568241, -1.20560581, -1.29013322],\n",
              "       [ 0.53267224, -1.77619418,  0.362055  ,  0.13614471],\n",
              "       [-0.18688501, -0.6472572 ,  0.19409134,  0.13614471],\n",
              "       [-0.30681122, -0.6472572 ,  0.64199443,  1.04377612],\n",
              "       [-0.90644226,  0.93325457, -1.31758158, -1.29013322],\n",
              "       [-0.18688501, -0.4214698 ,  0.25007922,  0.13614471],\n",
              "       [-1.02636846, -2.45355636, -0.14183598, -0.25284018],\n",
              "       [-1.26622088,  0.70746717, -1.03764215, -1.29013322],\n",
              "       [ 2.21163915, -1.09883199,  1.76175215,  1.43276101],\n",
              "       [ 0.53267224, -1.32461939,  0.64199443,  0.39546797],\n",
              "       [-0.90644226,  0.93325457, -1.31758158, -1.16047159],\n",
              "       [ 0.77252466, -0.19568241,  0.97792174,  0.78445286],\n",
              "       [ 0.53267224, -1.32461939,  0.69798231,  0.91411449],\n",
              "       [-1.74592571,  0.25589238, -1.37356947, -1.29013322],\n",
              "       [ 1.01237707, -0.19568241,  0.69798231,  0.65479123],\n",
              "       [-0.54666363,  1.38482936, -1.2615937 , -1.29013322],\n",
              "       [-1.02636846,  0.93325457, -1.37356947, -1.16047159],\n",
              "       [ 1.01237707,  0.48167978,  1.08989751,  1.17343775],\n",
              "       [ 2.21163915,  1.61061675,  1.64977638,  1.30309938],\n",
              "       [-0.18688501, -1.32461939,  0.69798231,  1.04377612],\n",
              "       [-1.5060733 ,  0.25589238, -1.31758158, -1.29013322],\n",
              "       [-1.38614709,  0.25589238, -1.20560581, -1.29013322],\n",
              "       [-1.02636846,  0.70746717, -1.2615937 , -1.29013322],\n",
              "       [-1.26622088,  0.70746717, -1.20560581, -1.29013322],\n",
              "       [-0.66658984,  1.38482936, -1.2615937 , -1.29013322],\n",
              "       [ 0.29281982, -1.09883199,  1.03390963,  0.26580634],\n",
              "       [ 0.17289362, -0.19568241,  0.58600654,  0.78445286],\n",
              "       [-0.42673742,  0.93325457, -1.37356947, -1.29013322],\n",
              "       [ 1.61200811,  0.25589238,  1.25786117,  0.78445286],\n",
              "       [ 1.3721557 ,  0.25589238,  0.53001865,  0.26580634],\n",
              "       [-0.18688501,  2.96534113, -1.2615937 , -1.03080996],\n",
              "       [-1.86585192, -0.19568241, -1.48554524, -1.41979485],\n",
              "       [ 0.77252466,  0.25589238,  0.7539702 ,  1.04377612],\n",
              "       [-0.0669588 , -0.8730446 ,  0.7539702 ,  0.91411449],\n",
              "       [ 0.65259845,  0.25589238,  0.86594597,  1.43276101],\n",
              "       [ 0.29281982, -0.6472572 ,  0.53001865,  0.00648308],\n",
              "       [ 0.17289362, -0.4214698 ,  0.41804288,  0.39546797],\n",
              "       [-0.0669588 , -0.8730446 ,  0.7539702 ,  0.91411449],\n",
              "       [-1.14629467, -0.19568241, -1.31758158, -1.29013322],\n",
              "       [ 0.89245087, -0.4214698 ,  0.47403077,  0.13614471],\n",
              "       [ 1.49208191, -0.19568241,  1.20187329,  1.17343775],\n",
              "       [ 0.65259845, -0.4214698 ,  0.30606711,  0.13614471],\n",
              "       [ 1.25222949,  0.03010499,  0.64199443,  0.39546797],\n",
              "       [-1.74592571, -0.4214698 , -1.31758158, -1.29013322],\n",
              "       [-0.18688501, -0.19568241,  0.25007922,  0.00648308],\n",
              "       [-0.90644226,  1.38482936, -1.2615937 , -1.03080996],\n",
              "       [ 0.05296741, -0.19568241,  0.25007922,  0.39546797],\n",
              "       [-0.54666363,  0.70746717, -1.2615937 , -1.03080996],\n",
              "       [-0.30681122, -0.8730446 ,  0.25007922,  0.13614471],\n",
              "       [ 1.73193432, -0.4214698 ,  1.42582483,  0.78445286],\n",
              "       [ 0.53267224,  0.48167978,  1.25786117,  1.69208428],\n",
              "       [ 1.01237707,  0.48167978,  1.08989751,  1.69208428],\n",
              "       [-0.90644226,  1.61061675, -1.20560581, -1.29013322],\n",
              "       [-1.14629467,  0.03010499, -1.2615937 , -1.41979485],\n",
              "       [-1.5060733 ,  1.15904196, -1.54153313, -1.29013322],\n",
              "       [-0.90644226,  1.61061675, -1.03764215, -1.03080996],\n",
              "       [ 0.53267224, -0.4214698 ,  1.03390963,  0.78445286],\n",
              "       [-0.54666363,  1.83640415, -1.14961793, -1.03080996],\n",
              "       [-0.54666363,  0.70746717, -1.14961793, -1.29013322],\n",
              "       [-0.30681122, -1.32461939,  0.08211557, -0.12317855],\n",
              "       [ 0.65259845, -0.6472572 ,  1.03390963,  1.30309938],\n",
              "       [-1.02636846,  0.25589238, -1.42955736, -1.29013322],\n",
              "       [-0.0669588 , -0.6472572 ,  0.7539702 ,  1.56242264],\n",
              "       [-1.26622088, -0.19568241, -1.31758158, -1.41979485],\n",
              "       [ 1.13230328, -0.6472572 ,  0.58600654,  0.26580634],\n",
              "       [ 1.61200811, -0.19568241,  1.1458854 ,  0.5251296 ],\n",
              "       [-0.78651605, -0.8730446 ,  0.08211557,  0.26580634],\n",
              "       [-1.02636846,  1.15904196, -1.31758158, -1.29013322],\n",
              "       [ 0.65259845,  0.03010499,  0.97792174,  0.78445286],\n",
              "       [-0.90644226,  1.61061675, -1.2615937 , -1.16047159],\n",
              "       [-0.42673742, -1.77619418,  0.13810345,  0.13614471],\n",
              "       [-0.78651605,  0.70746717, -1.31758158, -1.29013322],\n",
              "       [ 2.21163915, -0.6472572 ,  1.64977638,  1.04377612],\n",
              "       [-0.0669588 , -1.09883199,  0.13810345,  0.00648308],\n",
              "       [-0.30681122, -0.19568241,  0.19409134,  0.13614471],\n",
              "       [ 2.09171295, -0.19568241,  1.59378849,  1.17343775],\n",
              "       [ 1.01237707,  0.03010499,  0.53001865,  0.39546797],\n",
              "       [-0.54666363, -0.19568241,  0.41804288,  0.39546797],\n",
              "       [ 2.45149157,  1.61061675,  1.48181272,  1.04377612],\n",
              "       [ 1.61200811,  1.15904196,  1.31384906,  1.69208428],\n",
              "       [-1.02636846,  0.70746717, -1.20560581, -1.03080996],\n",
              "       [-0.42673742, -1.32461939,  0.13810345,  0.13614471],\n",
              "       [ 1.01237707,  0.03010499,  0.362055  ,  0.26580634],\n",
              "       [-0.42673742, -1.55040678,  0.02612768, -0.12317855],\n",
              "       [ 1.01237707,  0.03010499,  1.03390963,  1.56242264]])"
            ]
          },
          "metadata": {},
          "execution_count": 27
        }
      ],
      "source": [
        "from sklearn.preprocessing import StandardScaler\n",
        "\n",
        "scaler = StandardScaler()\n",
        "\n",
        "scaler.fit(train_data)\n",
        "train_data_normalized = scaler.transform(train_data)\n",
        "test_data_normalized = scaler.transform(test_data)\n",
        "train_data_normalized"
      ]
    },
    {
      "cell_type": "markdown",
      "metadata": {
        "id": "edsze81urP4y"
      },
      "source": [
        "# 💬 Group Exercise #2: \n",
        "\n",
        "With the aid of the [`sklearn.tree.DecisionTreeClassifier`](https://scikit-learn.org/stable/modules/generated/sklearn.tree.DecisionTreeClassifier.htm) documentation, try the following:\n",
        "- Create a decision tree with an early stopping parameter\n",
        "- Visualize your trees to see if it is working right.\n",
        "- Look at your performance metrics to see how it changes performance.\n",
        "- Determine which of the features (petal length, sepal length, etc) were the most important.How does it determine these numbers?"
      ]
    },
    {
      "cell_type": "code",
      "execution_count": 29,
      "metadata": {
        "id": "c_Mn7GNyrP4y"
      },
      "outputs": [],
      "source": [
        "small_dt = tree.DecisionTreeClassifier(max_depth=2)\n"
      ]
    },
    {
      "cell_type": "markdown",
      "metadata": {
        "id": "XUMIy3wurP4y"
      },
      "source": [
        "# 💬 Group Exercise #3: \n",
        "\n",
        "Check out the [scikit-learn documentation here](https://scikit-learn.org/stable/modules/classes.html)\n",
        "\n",
        "Find the documentation for the kNN classifier (i.e., the classifier, not an unsupervised algorithm). Answer the following questions:\n",
        "\n",
        "- What is the default value of k it uses?\n",
        "- Does it do weighted or unweighted kNN by default?\n",
        "- What is the accuracy on the Iris dataset for k = 100, both weighted and unweighted?\n",
        "- How do the weighted and unweighted versions do for small values of k?"
      ]
    },
    {
      "cell_type": "code",
      "execution_count": null,
      "metadata": {
        "id": "8QP_C8EtrP4z"
      },
      "outputs": [],
      "source": []
    },
    {
      "cell_type": "markdown",
      "metadata": {
        "id": "dN9L1Qo0rP4z"
      },
      "source": [
        "# Let's try regression now:\n",
        "\n",
        "Using the `vehicles.csv` dataset, let's try out sklearn with regression:\n",
        "- load the data, get the right subset\n",
        "- set predictors and target variables\n",
        "- use `train_test_split()` to split the data"
      ]
    },
    {
      "cell_type": "code",
      "execution_count": null,
      "metadata": {
        "scrolled": true,
        "id": "-iFLNY2rrP4z",
        "outputId": "306f79c5-d4d3-41bf-983f-19392e89a5b2"
      },
      "outputs": [
        {
          "name": "stderr",
          "output_type": "stream",
          "text": [
            "/Users/100022114/opt/anaconda3/lib/python3.8/site-packages/IPython/core/interactiveshell.py:3071: DtypeWarning: Columns (70,71,72,73,74,76,79) have mixed types.Specify dtype option on import or set low_memory=False.\n",
            "  has_raised = await self.run_ast_nodes(code_ast.body, cell_name,\n"
          ]
        },
        {
          "data": {
            "text/html": [
              "<div>\n",
              "<style scoped>\n",
              "    .dataframe tbody tr th:only-of-type {\n",
              "        vertical-align: middle;\n",
              "    }\n",
              "\n",
              "    .dataframe tbody tr th {\n",
              "        vertical-align: top;\n",
              "    }\n",
              "\n",
              "    .dataframe thead th {\n",
              "        text-align: right;\n",
              "    }\n",
              "</style>\n",
              "<table border=\"1\" class=\"dataframe\">\n",
              "  <thead>\n",
              "    <tr style=\"text-align: right;\">\n",
              "      <th></th>\n",
              "      <th>year</th>\n",
              "      <th>cylinders</th>\n",
              "      <th>displ</th>\n",
              "    </tr>\n",
              "  </thead>\n",
              "  <tbody>\n",
              "    <tr>\n",
              "      <th>4256</th>\n",
              "      <td>1985</td>\n",
              "      <td>4.0</td>\n",
              "      <td>2.2</td>\n",
              "    </tr>\n",
              "    <tr>\n",
              "      <th>2685</th>\n",
              "      <td>1995</td>\n",
              "      <td>6.0</td>\n",
              "      <td>4.0</td>\n",
              "    </tr>\n",
              "    <tr>\n",
              "      <th>35058</th>\n",
              "      <td>2020</td>\n",
              "      <td>6.0</td>\n",
              "      <td>4.3</td>\n",
              "    </tr>\n",
              "    <tr>\n",
              "      <th>10678</th>\n",
              "      <td>1986</td>\n",
              "      <td>6.0</td>\n",
              "      <td>2.8</td>\n",
              "    </tr>\n",
              "    <tr>\n",
              "      <th>18702</th>\n",
              "      <td>1984</td>\n",
              "      <td>8.0</td>\n",
              "      <td>5.0</td>\n",
              "    </tr>\n",
              "  </tbody>\n",
              "</table>\n",
              "</div>"
            ],
            "text/plain": [
              "       year  cylinders  displ\n",
              "4256   1985        4.0    2.2\n",
              "2685   1995        6.0    4.0\n",
              "35058  2020        6.0    4.3\n",
              "10678  1986        6.0    2.8\n",
              "18702  1984        8.0    5.0"
            ]
          },
          "execution_count": 19,
          "metadata": {},
          "output_type": "execute_result"
        }
      ],
      "source": [
        "# load in the vehicles.csv data for scikit learn\n",
        "import pandas\n",
        "import numpy\n",
        "\n",
        "# load data, get the right subset\n",
        "path = 'datasets/vehicles.csv' #'/content/drive/MyDrive/CS167/datasets/vehicles.csv'\n",
        "data = pandas.read_csv(path)\n",
        "gas_vehicles = data[data['fuelType']=='Regular'][['year', 'cylinders', 'displ', 'comb08']]\n",
        "gas_vehicles.dropna(inplace=True)\n",
        "\n",
        "# set the predictor variables and target variable\n",
        "predictors= ['year', 'cylinders', 'displ']\n",
        "target= 'comb08'\n",
        "\n",
        "# use train_test_split() to split the data\n",
        "train_data, test_data, train_sln, test_sln = train_test_split(gas_vehicles[predictors], gas_vehicles[target], test_size = 0.2, random_state=41)\n",
        "train_data.head()"
      ]
    },
    {
      "cell_type": "markdown",
      "metadata": {
        "id": "Z3MWKeIdrP4z"
      },
      "source": [
        "And then we do the next steps:\n",
        "- build our model using `neighbors.KNeighborsRegressor()`\n",
        "- fit our model using `fit()` and passing in `train_data` and `train_sln`\n",
        "- get our predictions by calling `predict()`\n",
        "- evaluate our predictions using `metrics.mean_squared_error()`, and `metrics.r2_score()`"
      ]
    },
    {
      "cell_type": "code",
      "execution_count": null,
      "metadata": {
        "id": "sIrq8WMBrP4z"
      },
      "outputs": [],
      "source": [
        "from sklearn import neighbors\n",
        "# create our model\n",
        "\n",
        "# fit (train) the model to the data\n",
        "\n",
        "# use the trained model to get predictions from our test_data\n",
        "\n",
        "# use a metric to see how good our predictions are\n",
        "     "
      ]
    },
    {
      "cell_type": "markdown",
      "metadata": {
        "id": "ICToy3rVrP4z"
      },
      "source": [
        "# 💬 Group Exercise #4:\n",
        "Look up an appropriate Decision Tree algorithm and apply it to the vehicles data:\n",
        "- https://scikit-learn.org/stable/modules/classes.html\n",
        "- Using Default values of the decision tree, what is the $R^2$ metric?\n",
        "- Interpret the $R^2$ value... is it good or bad?"
      ]
    },
    {
      "cell_type": "code",
      "execution_count": null,
      "metadata": {
        "id": "g6ReObB9rP4z"
      },
      "outputs": [],
      "source": []
    },
    {
      "cell_type": "markdown",
      "metadata": {
        "id": "d_4eJ0T4rP4z"
      },
      "source": [
        "# 💬 Group Exercise #5:\n",
        "Change your decision tree to have a `max_depth` of 3. \n",
        "- does this help or hurt the decision tree performance?\n",
        "\n",
        "Compare your decision tree to a kNN algorithm:\n",
        "- what values of k seem to help the performance?\n",
        "- What else can you do to help the performance?\n",
        "\n",
        "Can you get a higher $R^2$ valuue using a knn algorithm or a decision tree?\n",
        "- what does this indicate about the data?"
      ]
    },
    {
      "cell_type": "code",
      "execution_count": null,
      "metadata": {
        "id": "6_mobdZJrP40"
      },
      "outputs": [],
      "source": []
    }
  ],
  "metadata": {
    "celltoolbar": "Slideshow",
    "kernelspec": {
      "display_name": "Python 3",
      "language": "python",
      "name": "python3"
    },
    "language_info": {
      "codemirror_mode": {
        "name": "ipython",
        "version": 3
      },
      "file_extension": ".py",
      "mimetype": "text/x-python",
      "name": "python",
      "nbconvert_exporter": "python",
      "pygments_lexer": "ipython3",
      "version": "3.8.3"
    },
    "colab": {
      "provenance": [],
      "include_colab_link": true
    }
  },
  "nbformat": 4,
  "nbformat_minor": 0
}