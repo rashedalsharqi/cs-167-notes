{
  "cells": [
    {
      "cell_type": "markdown",
      "metadata": {
        "id": "view-in-github",
        "colab_type": "text"
      },
      "source": [
        "<a href=\"https://colab.research.google.com/github/rashedalsharqi/cs-167-notes/blob/main/Day17_Gradient_Descent.ipynb\" target=\"_parent\"><img src=\"https://colab.research.google.com/assets/colab-badge.svg\" alt=\"Open In Colab\"/></a>"
      ]
    },
    {
      "cell_type": "markdown",
      "metadata": {
        "id": "Rc1L7ig8CkHa"
      },
      "source": [
        "# CS167: Day17\n",
        "## Gradient Descent\n",
        "\n",
        "#### CS167: Machine Learning, Spring 2023\n",
        "\n",
        "Thursday, March 30, 2023\n",
        "\n",
        "📆 [Course Schedule](https://docs.google.com/spreadsheets/d/e/2PACX-1vSvFV5Mz0_YZE1d5r3gQ8IMktE4cBAsJIlP30cl2GhEpSO0J-YWV62QokSDz-OcOCsEmxMuKpY0kVlR/pubhtml?gid=0&single=true) | 🙋[PollEverywhere](https://pollev.com/meredithmoore011) | 📜 [Syllabus](https://analytics.drake.edu/~moore/cs167_s23_syllabus.html) | 📬 [CodePost Login](https://codepost.io/login)"
      ]
    },
    {
      "cell_type": "markdown",
      "metadata": {
        "id": "NF-M-RYNCkHd"
      },
      "source": [
        "# Admin Stuff"
      ]
    },
    {
      "cell_type": "markdown",
      "metadata": {
        "id": "1U8nKadGCkHe"
      },
      "source": [
        "You should be working on:\n",
        "- Quiz #2--now due Thursday, April 6th by 11:59pm.\n",
        "- [Notebook #5](https://classroom.github.com/a/fwi3w_xb) is released today, due Thursday April 6th, by 11:59pm."
      ]
    },
    {
      "cell_type": "markdown",
      "metadata": {
        "id": "np1QSyp9CkHe"
      },
      "source": [
        "## Load your data:"
      ]
    },
    {
      "cell_type": "code",
      "execution_count": 1,
      "metadata": {
        "id": "zBUXStiBCkHe",
        "outputId": "1bb77b2b-c11f-495b-99b6-985675b624a1",
        "colab": {
          "base_uri": "https://localhost:8080/"
        }
      },
      "outputs": [
        {
          "output_type": "stream",
          "name": "stdout",
          "text": [
            "Mounted at /content/drive\n"
          ]
        }
      ],
      "source": [
        "from google.colab import drive\n",
        "drive.mount('/content/drive')"
      ]
    },
    {
      "cell_type": "code",
      "execution_count": 2,
      "metadata": {
        "id": "fGy2jd35CkHf"
      },
      "outputs": [],
      "source": [
        "import pandas\n",
        "path = '/content/drive/MyDrive/datasets/irisData.csv' #'/content/drive/MyDrive/CS167/datasets/irisData.csv'\n",
        "data = pandas.read_csv(path)"
      ]
    },
    {
      "cell_type": "markdown",
      "metadata": {
        "id": "1r3RkHqvCkHg"
      },
      "source": [
        "## Quick Review:"
      ]
    },
    {
      "cell_type": "markdown",
      "metadata": {
        "id": "isfvDWzHCkHg"
      },
      "source": [
        "<div>\n",
        "<img src=\"https://github.com/merriekay/S23-CS167-Notes/blob/main/images/day16_neuron2perceptron.png?raw=1\" width=700/>\n",
        "</div>"
      ]
    },
    {
      "cell_type": "markdown",
      "metadata": {
        "id": "Hft9yeGMCkHg"
      },
      "source": [
        "# Perceptron\n",
        "\n",
        "The mathematical model of a _single neuron_ in a neural network is called a __perceptron__.\n",
        "- Each $x_{i}$ is one of the predictor features--i.e. sepal length, gender, age, etc.\n",
        "- Each $w_{j}$ is some weight we multiply the feature value by.\n",
        "\n",
        "__Big Question__: How do we determine the weights that best classify the data?"
      ]
    },
    {
      "cell_type": "markdown",
      "metadata": {
        "id": "gejDkJxtCkHh"
      },
      "source": [
        "<div>\n",
        "<img src=\"https://github.com/merriekay/S23-CS167-Notes/blob/main/images/day16_perceptron.png?raw=1\" width=850/>\n",
        "</div>"
      ]
    },
    {
      "cell_type": "markdown",
      "metadata": {
        "id": "javVI9a1CkHh"
      },
      "source": [
        "# Perceptron Training Algorithm\n",
        "\n",
        "Do the following for each training example:\n",
        "- feed in a training example\n",
        "- update weights with weight update rule\n",
        "\n",
        "<div>\n",
        "<img src=\"https://github.com/merriekay/S23-CS167-Notes/blob/main/images/day16_updaterule.png?raw=1\" width=500/>\n",
        "</div>\n",
        "\n",
        "<div>\n",
        "<img src=\"https://github.com/merriekay/S23-CS167-Notes/blob/main/images/day16_perceptron.png?raw=1\" width=800/>\n",
        "</div>"
      ]
    },
    {
      "cell_type": "markdown",
      "metadata": {
        "id": "mxRdNjsQCkHh"
      },
      "source": [
        "## 🙋 PollEverywhere "
      ]
    },
    {
      "cell_type": "markdown",
      "metadata": {
        "id": "x03ew7ruCkHi"
      },
      "source": [
        "# ✨ New Material"
      ]
    },
    {
      "cell_type": "markdown",
      "metadata": {
        "id": "2Au1EFRnCkHi"
      },
      "source": [
        "## Optimization Techniques:\n",
        "\n",
        "Gradient Descent is an __optimization technique__. Mathematical optimization is the process of selecting the \"best element\" with regard to some criterion from some set of available alternatives. \n",
        "- Genearlly speaking, optimization problems come in two flavors:\n",
        "    - __minimizations__: trying to find the subset of values for attributes that gives you the minimum value in the objective function\n",
        "    - __maximizations__: trying to find the subset of values for attributes that gives you the maximum value in the objective function\n",
        "<div>\n",
        "<img src=\"https://github.com/merriekay/S23-CS167-Notes/blob/main/images/day17_wiki_max.png?raw=1\" width=700/>\n",
        "</div>"
      ]
    },
    {
      "cell_type": "markdown",
      "metadata": {
        "id": "_mnjh5BHCkHi"
      },
      "source": [
        "# Another Training Algorithm: Gradient Descent\n",
        "\n",
        "__Gradient Descent__ is an optimization technique (a tool that is used to find solutions that maximize or minimize certain parameters). \n",
        "- in machine learning models, we often want to __maximize the accuracy__ of our models\n",
        "- But... often times we choose to minimize a __loss function__ instead. "
      ]
    },
    {
      "cell_type": "markdown",
      "metadata": {
        "id": "nWZVb2vmCkHi"
      },
      "source": [
        "## 🚨🚨 Terminology Alert 🚨🚨\n",
        "- the terms __loss function__, __error function__ or __cost function__ imply that this function is something we're trying to __minimize__. \n",
        "- __objective function__ leaves room for the function to be something that we want to either __minimize__ or __maximize__. This term is one of the most general."
      ]
    },
    {
      "cell_type": "markdown",
      "metadata": {
        "id": "LJRjqqLnCkHj"
      },
      "source": [
        "# Gradient Descent\n",
        "\n",
        "The __gradient descent__ trainig rule is guaranteed to converge to the model with minimum squared error (proven using calculus)\n",
        "- given sufficiently small learning rate\n",
        "- even when training data contains noise\n",
        "- even when training data is not linearly separable."
      ]
    },
    {
      "cell_type": "markdown",
      "metadata": {
        "id": "3KR9l9uQCkHj"
      },
      "source": [
        "<div>\n",
        "<img src=\"https://github.com/merriekay/S23-CS167-Notes/blob/main/images/day17_grad_v_perceptron.png?raw=1\" width=1000/>\n",
        "</div>"
      ]
    },
    {
      "cell_type": "markdown",
      "metadata": {
        "id": "j7zYxnxYCkHj"
      },
      "source": [
        "# Gradient Descent\n",
        "\n",
        "To derive the weights, examine __all__ of the training examples and measure how far off the weights are:\n",
        "\n",
        "$$E(w) = \\frac{1}{2} \\sum_{d \\in D}(target_d - ouptut_d)^2$$\n",
        "\n",
        "Where D is the set of all training examples"
      ]
    },
    {
      "cell_type": "markdown",
      "metadata": {
        "id": "l6Tg-GhJCkHj"
      },
      "source": [
        "- the surface we see is the __loss function__ (aka __cost function__, __error function__, __objective function__, etc) with regard to two of the attributes, $\\theta_0, \\theta_1$,(these attributes are generally the __weights of the neural network/perceptron__).\n",
        "- The goal is to find the values of $\\theta_0, \\theta_1$ that __minimize the loss function__."
      ]
    },
    {
      "cell_type": "markdown",
      "metadata": {
        "id": "BLnWTeRqCkHj"
      },
      "source": [
        "<div>\n",
        "<img src=\"https://github.com/merriekay/S23-CS167-Notes/blob/main/images/day17_gd1.png?raw=1\" width=1000/>\n",
        "</div>"
      ]
    },
    {
      "cell_type": "markdown",
      "metadata": {
        "id": "3NUAonBkCkHj"
      },
      "source": [
        "- Gradient Descent starts from a randomly selected point (randomly set weights). The first step is to calculate the error/loss function. "
      ]
    },
    {
      "cell_type": "markdown",
      "metadata": {
        "id": "oVMgOB9mCkHk"
      },
      "source": [
        "<div>\n",
        "<img src=\"https://github.com/merriekay/S23-CS167-Notes/blob/main/images/day17_gd2.png?raw=1\" width=1000/>\n",
        "</div>"
      ]
    },
    {
      "cell_type": "markdown",
      "metadata": {
        "id": "akrjBVwBCkHk"
      },
      "source": [
        "- Then, Gradient Descent takes the derivative of the error surface to find the slope of the cost function at our current $\\theta$ values. This derivative tells us 2 things:\n",
        "    1. the direction to move $\\theta$ in--we want to _descend the slope_, or move in the direction that will help us to find the minimum. \n",
        "    2. the size of step to take, the more negative of a slope, the bigger the step. "
      ]
    },
    {
      "cell_type": "markdown",
      "metadata": {
        "id": "1t17-BmgCkHk"
      },
      "source": [
        "<div>\n",
        "<img src=\"https://github.com/merriekay/S23-CS167-Notes/blob/main/images/day17_gd3.png?raw=1\" width=1000/>\n",
        "</div>"
      ]
    },
    {
      "cell_type": "markdown",
      "metadata": {
        "id": "O7IY5nvICkHk"
      },
      "source": [
        "Gradient Descent is an iterative process, so you keep doing this, taking a step down the slope of the error surface, until you reach a minima. "
      ]
    },
    {
      "cell_type": "markdown",
      "metadata": {
        "id": "clZmT-diCkHk"
      },
      "source": [
        "<div>\n",
        "<img src=\"https://github.com/merriekay/S23-CS167-Notes/blob/main/images/day17_gd4.png?raw=1\" width=1000/>\n",
        "</div>"
      ]
    },
    {
      "cell_type": "markdown",
      "metadata": {
        "id": "alGIneovCkHk"
      },
      "source": [
        "<div>\n",
        "<img src=\"https://github.com/merriekay/S23-CS167-Notes/blob/main/images/day17_gd5.png?raw=1\" width=1000/>\n",
        "</div>"
      ]
    },
    {
      "cell_type": "markdown",
      "metadata": {
        "id": "E04sWeBvCkHk"
      },
      "source": [
        "## Some common questions:\n",
        "- If we have access to the entire loss function surface, why is gradient descent necessary?\n"
      ]
    },
    {
      "cell_type": "markdown",
      "metadata": {
        "id": "36g71KEjCkHk"
      },
      "source": [
        "# Gradient Descent\n",
        "\n",
        "__Main idea__: instead of using a threshold like the perceptron algorith, use an un-thresholded output.\n",
        "\n",
        "<div>\n",
        "<img src=\"https://github.com/merriekay/S23-CS167-Notes/blob/main/images/day17_grad_v_perceptron.png?raw=1\" width=1000/>\n",
        "</div>"
      ]
    },
    {
      "cell_type": "markdown",
      "metadata": {
        "id": "NcNQ7TKpCkHk"
      },
      "source": [
        "## A Gradient Descent Example:\n",
        "\n",
        "Let's use __mean squared error__ for our loss function. Remember, MSE is  the average difference between the model's predictions and the true values. \n",
        "- Imagine $a$ and $b$ are two of our weights\n",
        "- The surface shown is the MSE given the weights $a$ and $b$. \n",
        "- We want to find the values of $a$ and $b$ that minimize the MSE. \n",
        "\n",
        "<div>\n",
        "<img src=\"https://github.com/merriekay/S23-CS167-Notes/blob/main/images/day17_mse_ex1.png?raw=1\" width=1000/>\n",
        "</div>"
      ]
    },
    {
      "cell_type": "markdown",
      "metadata": {
        "id": "NNO32lPNCkHl"
      },
      "source": [
        "## A Gradient Descent Example:\n",
        "\n",
        "- We want to find the values of $a$ and $b$ that minimize the MSE.\n",
        "- We do so by findint the most negative slope (by taking the gradient/derivative) at that oint), and taking a step in that direction.\n",
        "- The size of the step is determined by the __learning rate__.\n",
        "<div>\n",
        "<img src=\"https://github.com/merriekay/S23-CS167-Notes/blob/main/images/day17_mse_ex1.png?raw=1\" width=1000/>\n",
        "</div>"
      ]
    },
    {
      "cell_type": "markdown",
      "metadata": {
        "id": "2awCXnteCkHl"
      },
      "source": [
        "# Goldilocks and the many learning rates\n",
        "\n",
        "The __learning rate__ (represented by $\\eta$ in the perceptron lecture), is an important parameter for neural networks. It deerminds the size of the changes in the weights.\n",
        "\n",
        "<div>\n",
        "<img src=\"https://github.com/merriekay/S23-CS167-Notes/blob/main/images/day17_learning_rate.png?raw=1\" width=1000/>\n",
        "</div>\n"
      ]
    },
    {
      "cell_type": "markdown",
      "metadata": {
        "id": "PKJi1hSkCkHl"
      },
      "source": [
        "# Gradient Descent Summary\n",
        "\n",
        "Gradient descent updates the weight values until it has accumulated the changes $\\Delta w$s __for all training examples__ on each epoch.\n",
        "- perceptron updates them after putting each training examples through the unit.\n",
        "\n",
        "__Guaranteed to converge__ to model with minimum squared error\n",
        "- girven sufficiently small learning rate\n",
        "- even when training data contains noise\n",
        "- even when the training data is not linearly separable."
      ]
    },
    {
      "cell_type": "markdown",
      "metadata": {
        "id": "6wVwatLwCkHl"
      },
      "source": [
        "In practice Gradient Descent has some issues: \n",
        "- it is __computationally heavy__ which means it can be pretty slow\n",
        "- could get stuck in a __local minima__\n"
      ]
    },
    {
      "cell_type": "markdown",
      "metadata": {
        "id": "R8vYW46cCkHl"
      },
      "source": [
        "## Gradient Descent Visualization:\n",
        "\n",
        "There are many different variations of gradient descent. Let's take a look at some of them:\n",
        "\n",
        "![gradient descent gif](https://miro.medium.com/v2/resize:fit:640/1*hUd744hDEEGx0-ypWGhrkw.gif \"gd\")\n",
        "\n",
        "https://towardsdatascience.com/a-visual-explanation-of-gradient-descent-methods-momentum-adagrad-rmsprop-adam-f898b102325c\n",
        "\n",
        "https://github.com/lilipads/gradient_descent_viz"
      ]
    },
    {
      "cell_type": "markdown",
      "metadata": {
        "id": "4IHE71XACkHl"
      },
      "source": [
        "## Gradient Descent Resources:\n",
        "\n",
        "- Math behind Gradient Descent:  https://mccormickml.com/2014/03/04/gradient-descent-derivation/ \n",
        "- Math behind Gradient Descent: https://towardsdatascience.com/understanding-the-mathematics-behind-gradient-descent-dde5dc9be06e\n",
        "- Google Course: https://developers.google.com/machine-learning/crash-course/reducing-loss/gradient-descent \n"
      ]
    },
    {
      "cell_type": "markdown",
      "metadata": {
        "id": "mbfjOQNhCkHl"
      },
      "source": [
        "# Stochastic Gradient Descent\n",
        "\n",
        "In practie, __Gradient Descent__ has some issues:\n",
        "- if therea re a large number of training examples, Gradient Descent doesn't work well\n",
        "- could get stuck in a __local minima__\n",
        "\n",
        "\n",
        "__Stochastic Gradient Descent (SGD)__:\n",
        "- Instead of using the entire dataset to calcuate gradients and make the next move...\n",
        "- SGD tries to find minimums by iteration from a __single randomly picked training example__. \n",
        "    - can converge faster; can escape local minimum.\n",
        "    - it can be pretty noisy, but given enough iterations, it works pretty well."
      ]
    },
    {
      "cell_type": "markdown",
      "metadata": {
        "id": "UftKxLt4CkHl"
      },
      "source": [
        "## 🙋 PollEverywhere "
      ]
    },
    {
      "cell_type": "markdown",
      "metadata": {
        "id": "EfikDhwYCkHm"
      },
      "source": [
        "# Boston Housing Dataset:\n",
        "\n",
        "- CRIM - per capita crime rate by town\n",
        "- ZN - proportion of residential land zoned for lots over 25,000 sq.ft.\n",
        "- INDUS - proportion of non-retail business acres per town.\n",
        "- CHAS - Charles River dummy variable (1 if tract bounds river; 0 otherwise)\n",
        "- NOX - nitric oxides concentration (parts per 10 million)\n",
        "- RM - average number of rooms per dwelling\n",
        "- AGE - proportion of owner-occupied units built prior to 1940\n",
        "- DIS - weighted distances to five Boston employment centres\n",
        "- RAD - index of accessibility to radial highways\n",
        "- TAX - full-value property-tax rate per \\$10,000\n",
        "- PTRATIO - pupil-teacher ratio by town\n",
        "- LSTAT - % lower status of the population\n",
        "- MEDV - Median value of owner-occupied homes in \\$1000's"
      ]
    },
    {
      "cell_type": "code",
      "execution_count": 4,
      "metadata": {
        "id": "l-Kvm8ppCkHm",
        "outputId": "ac5fb757-1a32-42cf-c4d3-420b61d7877d",
        "colab": {
          "base_uri": "https://localhost:8080/",
          "height": 206
        }
      },
      "outputs": [
        {
          "output_type": "execute_result",
          "data": {
            "text/plain": [
              "      CRIM    ZN  INDUS  CHAS    NOX     RM   AGE     DIS  RAD  TAX  PTRATIO  \\\n",
              "0  0.00632  18.0   2.31     0  0.538  6.575  65.2  4.0900    1  296     15.3   \n",
              "1  0.02731   0.0   7.07     0  0.469  6.421  78.9  4.9671    2  242     17.8   \n",
              "2  0.02729   0.0   7.07     0  0.469  7.185  61.1  4.9671    2  242     17.8   \n",
              "3  0.03237   0.0   2.18     0  0.458  6.998  45.8  6.0622    3  222     18.7   \n",
              "4  0.06905   0.0   2.18     0  0.458  7.147  54.2  6.0622    3  222     18.7   \n",
              "\n",
              "   LSTAT  MEDV  \n",
              "0   4.98  24.0  \n",
              "1   9.14  21.6  \n",
              "2   4.03  34.7  \n",
              "3   2.94  33.4  \n",
              "4   5.33  36.2  "
            ],
            "text/html": [
              "\n",
              "  <div id=\"df-b4c590b5-9f87-4d9f-bfd2-03f8cbbe7d5e\">\n",
              "    <div class=\"colab-df-container\">\n",
              "      <div>\n",
              "<style scoped>\n",
              "    .dataframe tbody tr th:only-of-type {\n",
              "        vertical-align: middle;\n",
              "    }\n",
              "\n",
              "    .dataframe tbody tr th {\n",
              "        vertical-align: top;\n",
              "    }\n",
              "\n",
              "    .dataframe thead th {\n",
              "        text-align: right;\n",
              "    }\n",
              "</style>\n",
              "<table border=\"1\" class=\"dataframe\">\n",
              "  <thead>\n",
              "    <tr style=\"text-align: right;\">\n",
              "      <th></th>\n",
              "      <th>CRIM</th>\n",
              "      <th>ZN</th>\n",
              "      <th>INDUS</th>\n",
              "      <th>CHAS</th>\n",
              "      <th>NOX</th>\n",
              "      <th>RM</th>\n",
              "      <th>AGE</th>\n",
              "      <th>DIS</th>\n",
              "      <th>RAD</th>\n",
              "      <th>TAX</th>\n",
              "      <th>PTRATIO</th>\n",
              "      <th>LSTAT</th>\n",
              "      <th>MEDV</th>\n",
              "    </tr>\n",
              "  </thead>\n",
              "  <tbody>\n",
              "    <tr>\n",
              "      <th>0</th>\n",
              "      <td>0.00632</td>\n",
              "      <td>18.0</td>\n",
              "      <td>2.31</td>\n",
              "      <td>0</td>\n",
              "      <td>0.538</td>\n",
              "      <td>6.575</td>\n",
              "      <td>65.2</td>\n",
              "      <td>4.0900</td>\n",
              "      <td>1</td>\n",
              "      <td>296</td>\n",
              "      <td>15.3</td>\n",
              "      <td>4.98</td>\n",
              "      <td>24.0</td>\n",
              "    </tr>\n",
              "    <tr>\n",
              "      <th>1</th>\n",
              "      <td>0.02731</td>\n",
              "      <td>0.0</td>\n",
              "      <td>7.07</td>\n",
              "      <td>0</td>\n",
              "      <td>0.469</td>\n",
              "      <td>6.421</td>\n",
              "      <td>78.9</td>\n",
              "      <td>4.9671</td>\n",
              "      <td>2</td>\n",
              "      <td>242</td>\n",
              "      <td>17.8</td>\n",
              "      <td>9.14</td>\n",
              "      <td>21.6</td>\n",
              "    </tr>\n",
              "    <tr>\n",
              "      <th>2</th>\n",
              "      <td>0.02729</td>\n",
              "      <td>0.0</td>\n",
              "      <td>7.07</td>\n",
              "      <td>0</td>\n",
              "      <td>0.469</td>\n",
              "      <td>7.185</td>\n",
              "      <td>61.1</td>\n",
              "      <td>4.9671</td>\n",
              "      <td>2</td>\n",
              "      <td>242</td>\n",
              "      <td>17.8</td>\n",
              "      <td>4.03</td>\n",
              "      <td>34.7</td>\n",
              "    </tr>\n",
              "    <tr>\n",
              "      <th>3</th>\n",
              "      <td>0.03237</td>\n",
              "      <td>0.0</td>\n",
              "      <td>2.18</td>\n",
              "      <td>0</td>\n",
              "      <td>0.458</td>\n",
              "      <td>6.998</td>\n",
              "      <td>45.8</td>\n",
              "      <td>6.0622</td>\n",
              "      <td>3</td>\n",
              "      <td>222</td>\n",
              "      <td>18.7</td>\n",
              "      <td>2.94</td>\n",
              "      <td>33.4</td>\n",
              "    </tr>\n",
              "    <tr>\n",
              "      <th>4</th>\n",
              "      <td>0.06905</td>\n",
              "      <td>0.0</td>\n",
              "      <td>2.18</td>\n",
              "      <td>0</td>\n",
              "      <td>0.458</td>\n",
              "      <td>7.147</td>\n",
              "      <td>54.2</td>\n",
              "      <td>6.0622</td>\n",
              "      <td>3</td>\n",
              "      <td>222</td>\n",
              "      <td>18.7</td>\n",
              "      <td>5.33</td>\n",
              "      <td>36.2</td>\n",
              "    </tr>\n",
              "  </tbody>\n",
              "</table>\n",
              "</div>\n",
              "      <button class=\"colab-df-convert\" onclick=\"convertToInteractive('df-b4c590b5-9f87-4d9f-bfd2-03f8cbbe7d5e')\"\n",
              "              title=\"Convert this dataframe to an interactive table.\"\n",
              "              style=\"display:none;\">\n",
              "        \n",
              "  <svg xmlns=\"http://www.w3.org/2000/svg\" height=\"24px\"viewBox=\"0 0 24 24\"\n",
              "       width=\"24px\">\n",
              "    <path d=\"M0 0h24v24H0V0z\" fill=\"none\"/>\n",
              "    <path d=\"M18.56 5.44l.94 2.06.94-2.06 2.06-.94-2.06-.94-.94-2.06-.94 2.06-2.06.94zm-11 1L8.5 8.5l.94-2.06 2.06-.94-2.06-.94L8.5 2.5l-.94 2.06-2.06.94zm10 10l.94 2.06.94-2.06 2.06-.94-2.06-.94-.94-2.06-.94 2.06-2.06.94z\"/><path d=\"M17.41 7.96l-1.37-1.37c-.4-.4-.92-.59-1.43-.59-.52 0-1.04.2-1.43.59L10.3 9.45l-7.72 7.72c-.78.78-.78 2.05 0 2.83L4 21.41c.39.39.9.59 1.41.59.51 0 1.02-.2 1.41-.59l7.78-7.78 2.81-2.81c.8-.78.8-2.07 0-2.86zM5.41 20L4 18.59l7.72-7.72 1.47 1.35L5.41 20z\"/>\n",
              "  </svg>\n",
              "      </button>\n",
              "      \n",
              "  <style>\n",
              "    .colab-df-container {\n",
              "      display:flex;\n",
              "      flex-wrap:wrap;\n",
              "      gap: 12px;\n",
              "    }\n",
              "\n",
              "    .colab-df-convert {\n",
              "      background-color: #E8F0FE;\n",
              "      border: none;\n",
              "      border-radius: 50%;\n",
              "      cursor: pointer;\n",
              "      display: none;\n",
              "      fill: #1967D2;\n",
              "      height: 32px;\n",
              "      padding: 0 0 0 0;\n",
              "      width: 32px;\n",
              "    }\n",
              "\n",
              "    .colab-df-convert:hover {\n",
              "      background-color: #E2EBFA;\n",
              "      box-shadow: 0px 1px 2px rgba(60, 64, 67, 0.3), 0px 1px 3px 1px rgba(60, 64, 67, 0.15);\n",
              "      fill: #174EA6;\n",
              "    }\n",
              "\n",
              "    [theme=dark] .colab-df-convert {\n",
              "      background-color: #3B4455;\n",
              "      fill: #D2E3FC;\n",
              "    }\n",
              "\n",
              "    [theme=dark] .colab-df-convert:hover {\n",
              "      background-color: #434B5C;\n",
              "      box-shadow: 0px 1px 3px 1px rgba(0, 0, 0, 0.15);\n",
              "      filter: drop-shadow(0px 1px 2px rgba(0, 0, 0, 0.3));\n",
              "      fill: #FFFFFF;\n",
              "    }\n",
              "  </style>\n",
              "\n",
              "      <script>\n",
              "        const buttonEl =\n",
              "          document.querySelector('#df-b4c590b5-9f87-4d9f-bfd2-03f8cbbe7d5e button.colab-df-convert');\n",
              "        buttonEl.style.display =\n",
              "          google.colab.kernel.accessAllowed ? 'block' : 'none';\n",
              "\n",
              "        async function convertToInteractive(key) {\n",
              "          const element = document.querySelector('#df-b4c590b5-9f87-4d9f-bfd2-03f8cbbe7d5e');\n",
              "          const dataTable =\n",
              "            await google.colab.kernel.invokeFunction('convertToInteractive',\n",
              "                                                     [key], {});\n",
              "          if (!dataTable) return;\n",
              "\n",
              "          const docLinkHtml = 'Like what you see? Visit the ' +\n",
              "            '<a target=\"_blank\" href=https://colab.research.google.com/notebooks/data_table.ipynb>data table notebook</a>'\n",
              "            + ' to learn more about interactive tables.';\n",
              "          element.innerHTML = '';\n",
              "          dataTable['output_type'] = 'display_data';\n",
              "          await google.colab.output.renderOutput(dataTable, element);\n",
              "          const docLink = document.createElement('div');\n",
              "          docLink.innerHTML = docLinkHtml;\n",
              "          element.appendChild(docLink);\n",
              "        }\n",
              "      </script>\n",
              "    </div>\n",
              "  </div>\n",
              "  "
            ]
          },
          "metadata": {},
          "execution_count": 4
        }
      ],
      "source": [
        "#boston housing dataset\n",
        "from sklearn.linear_model import Perceptron\n",
        "from sklearn import tree\n",
        "from sklearn.model_selection import train_test_split\n",
        "from sklearn import metrics\n",
        "\n",
        "import pandas\n",
        "path = '/content/drive/MyDrive/datasets/boston_housing.csv' #'/content/drive/MyDrive/CS167/datasets/boston_housing.csv'\n",
        "data = pandas.read_csv(path) \n",
        "data.head()"
      ]
    },
    {
      "cell_type": "code",
      "execution_count": 5,
      "metadata": {
        "id": "ppNiyH9lCkHm",
        "outputId": "80174079-048f-4333-a3a3-7fc978735069",
        "colab": {
          "base_uri": "https://localhost:8080/",
          "height": 625
        }
      },
      "outputs": [
        {
          "output_type": "execute_result",
          "data": {
            "text/plain": [
              "<seaborn.axisgrid.FacetGrid at 0x7f704adeee20>"
            ]
          },
          "metadata": {},
          "execution_count": 5
        },
        {
          "output_type": "display_data",
          "data": {
            "text/plain": [
              "<Figure size 600x600 with 1 Axes>"
            ],
            "image/png": "[encoded data removed]"
          },
          "metadata": {}
        }
      ],
      "source": [
        "## Play around with plotting different predictor variables\n",
        "import seaborn as sns\n",
        "import matplotlib.pyplot as plt\n",
        "sns.set_style(\"whitegrid\")\n",
        "sns.FacetGrid(data,height = 6).map(plt.scatter,'RM','MEDV')"
      ]
    },
    {
      "cell_type": "markdown",
      "metadata": {
        "id": "612W0olKCkHn"
      },
      "source": [
        "# 💬 Goup Exercise:\n",
        "\n",
        "- Find a Gradient Descent Algorithm on scikit-learn\n",
        "  - Hint: Stochastic Gradient Descent (SGD)\n",
        "- Apply it to the Boston Housing Market Dataset\n",
        "- Utilize a metric to determine how well the algorithm is doing\n",
        "- Consider reading the user's guide if the results don't make sense\n",
        "- Can you plot the results of the MSE v Epochs?"
      ]
    },
    {
      "cell_type": "code",
      "execution_count": 12,
      "metadata": {
        "id": "o6jySH0ZCkHn",
        "outputId": "a5ef5f53-0440-4124-86e9-f171d1017a85",
        "colab": {
          "base_uri": "https://localhost:8080/"
        }
      },
      "outputs": [
        {
          "output_type": "stream",
          "name": "stdout",
          "text": [
            "SDG Regression R2: -1.0950656263448966e+26\n",
            "SDG Regression MAE: 63554923842927.94\n",
            "SDG Regression MSE: 5.084490747237127e+27\n"
          ]
        }
      ],
      "source": [
        "# Code using SGD on Boston Housing Dataset:\n",
        "#ignore warings -- there are lots of warnings regarding default values of Perceptron; which we accept\n",
        "import warnings\n",
        "warnings.filterwarnings(\"ignore\")\n",
        "from sklearn.linear_model import SGDRegressor\n",
        "\n",
        "# load data\n",
        "path = '/content/drive/MyDrive/datasets/boston_housing.csv' #'/content/drive/MyDrive/CS167/datasets/boston_housing.csv'\n",
        "housing_data = pandas.read_csv(path) \n",
        "# clean the data\n",
        "housing_data['CRIM'].fillna(housing_data['CRIM'].mean(),inplace=True)\n",
        "housing_data['ZN'].fillna(housing_data['ZN'].mean(),inplace=True)\n",
        "housing_data['INDUS'].fillna(housing_data['INDUS'].mean(),inplace=True)\n",
        "housing_data['CHAS'].fillna(housing_data['CHAS'].mean(),inplace=True)\n",
        "housing_data['AGE'].fillna(housing_data['AGE'].mean(),inplace=True)\n",
        "housing_data['LSTAT'].fillna(housing_data['LSTAT'].mean(),inplace=True)\n",
        "\n",
        "# Split the data into the training data and testing data\n",
        "target= 'MEDV'\n",
        "predictors = housing_data.columns.drop(target) # use all of the columns except for MEDV\n",
        "train_data, test_data, train_sln, test_sln = train_test_split(housing_data[predictors], housing_data[target], test_size = 0.2, random_state=41)\n",
        "\n",
        "#load up scikit-learn SGDregressor\n",
        "sgd = SGDRegressor()\n",
        "sgd.fit(train_data, train_sln)\n",
        "medv_sgd_predictions = sgd.predict(test_data)\n",
        "\n",
        "#output accuracy\n",
        "print(\"SDG Regression R2:\", metrics.r2_score(test_sln, medv_sgd_predictions))\n",
        "print(\"SDG Regression MAE:\", metrics.mean_absolute_error(test_sln, medv_sgd_predictions))\n",
        "print(\"SDG Regression MSE:\", metrics.mean_squared_error(test_sln, medv_sgd_predictions))"
      ]
    },
    {
      "cell_type": "markdown",
      "metadata": {
        "id": "1HcJ933uCkHn"
      },
      "source": [
        "Whoa. that's pretty bad. What's going on here?\n",
        "\n",
        "- [`sklearn` User Guide on Stochastic Gradient Descent](https://scikit-learn.org/stable/modules/sgd.html#)\n",
        "- Documentation: [`sklearn.linear_model.SGDRegressor()`](https://scikit-learn.org/stable/modules/generated/sklearn.linear_model.SGDClassifier.html)"
      ]
    },
    {
      "cell_type": "code",
      "execution_count": null,
      "metadata": {
        "id": "oSKWggWuCkHn"
      },
      "outputs": [],
      "source": [
        "# normalize the data\n",
        "\n"
      ]
    },
    {
      "cell_type": "markdown",
      "metadata": {
        "id": "q1C8QrmqCkHn"
      },
      "source": [
        "# 💬 Goup Exercise:\n",
        "\n",
        "- Can you plot the results of the MSE v Epochs?"
      ]
    },
    {
      "cell_type": "code",
      "execution_count": null,
      "metadata": {
        "id": "vVB6Hd32CkHn"
      },
      "outputs": [],
      "source": [
        "\n"
      ]
    },
    {
      "cell_type": "code",
      "execution_count": null,
      "metadata": {
        "id": "Ro7KcqJrCkHn",
        "outputId": "4eedebb8-ad81-4f29-9cec-57a371ef0ee9"
      },
      "outputs": [
        {
          "data": {
            "image/png": "[encoded data removed]",
            "text/plain": [
              "<Figure size 432x288 with 1 Axes>"
            ]
          },
          "metadata": {},
          "output_type": "display_data"
        }
      ],
      "source": [
        "# your code here\n"
      ]
    },
    {
      "cell_type": "code",
      "execution_count": null,
      "metadata": {
        "id": "_yKocxJsCkHo",
        "outputId": "18a8440c-5914-4e51-9296-7836e9f3a620"
      },
      "outputs": [
        {
          "data": {
            "image/png": "[encoded data removed]",
            "text/plain": [
              "<Figure size 432x288 with 1 Axes>"
            ]
          },
          "metadata": {},
          "output_type": "display_data"
        }
      ],
      "source": [
        "# your code here: "
      ]
    },
    {
      "cell_type": "markdown",
      "metadata": {
        "id": "c0NcomRvCkHo"
      },
      "source": [
        "## Use whatever time we have left to get started on Notebook #5"
      ]
    }
  ],
  "metadata": {
    "celltoolbar": "Slideshow",
    "kernelspec": {
      "display_name": "Python 3",
      "language": "python",
      "name": "python3"
    },
    "language_info": {
      "codemirror_mode": {
        "name": "ipython",
        "version": 3
      },
      "file_extension": ".py",
      "mimetype": "text/x-python",
      "name": "python",
      "nbconvert_exporter": "python",
      "pygments_lexer": "ipython3",
      "version": "3.8.3"
    },
    "colab": {
      "provenance": [],
      "include_colab_link": true
    }
  },
  "nbformat": 4,
  "nbformat_minor": 0
}